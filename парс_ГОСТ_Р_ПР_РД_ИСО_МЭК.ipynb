{
  "nbformat": 4,
  "nbformat_minor": 0,
  "metadata": {
    "colab": {
      "provenance": [],
      "mount_file_id": "14bNLlqYrT0qKn9jZlfb31fNVQjlBOoKU",
      "authorship_tag": "ABX9TyMUzFqX2PlRmW/mIfrOlhEi",
      "include_colab_link": true
    },
    "kernelspec": {
      "name": "python3",
      "display_name": "Python 3"
    },
    "language_info": {
      "name": "python"
    }
  },
  "cells": [
    {
      "cell_type": "markdown",
      "metadata": {
        "id": "view-in-github",
        "colab_type": "text"
      },
      "source": [
        "<a href=\"https://colab.research.google.com/github/OVP2023/ML/blob/main/%D0%BF%D0%B0%D1%80%D1%81_%D0%93%D0%9E%D0%A1%D0%A2_%D0%A0_%D0%9F%D0%A0_%D0%A0%D0%94_%D0%98%D0%A1%D0%9E_%D0%9C%D0%AD%D0%9A.ipynb\" target=\"_parent\"><img src=\"https://colab.research.google.com/assets/colab-badge.svg\" alt=\"Open In Colab\"/></a>"
      ]
    },
    {
      "cell_type": "code",
      "execution_count": 1,
      "metadata": {
        "id": "dYMfgwXPWJYP"
      },
      "outputs": [],
      "source": [
        "import pandas as pd\n",
        "import requests\n",
        "from bs4 import BeautifulSoup\n",
        "import warnings                   #отменим все не нужные предупреждения python\n",
        "warnings.filterwarnings(\"ignore\")\n"
      ]
    },
    {
      "cell_type": "code",
      "source": [
        "#парсил ГОСТы\n",
        "def f_list_aspx(url):\n",
        "    response = requests.get(url)\n",
        "    soup = BeautifulSoup(response.text, 'lxml')\n",
        "    table1 = soup.find_all('td', class_='tx12')\n",
        "    k=2\n",
        "    list_aspx=[]\n",
        "    for i in range(0,len(table1)):\n",
        "        if  k==2:\n",
        "            str1=str(table1[i])\n",
        "            str2=str1[47:59:1]\n",
        "            list_aspx.append(str2)\n",
        "            k=1\n",
        "        else:\n",
        "            k=2\n",
        "    return list_aspx\n",
        "#https://www.standards.ru/document.aspx?control=54&search=&sort=%20ASC&month=9&cid=6&year=2024&page=  7 лист последний\n",
        "#https://www.standards.ru/document.aspx?control=54&search=&sort=%20ASC&month=8&cid=6&year=2024&page=   6 лист последний\n",
        "#https://www.standards.ru/document.aspx?control=54&search=&sort=%20ASC&month=7&cid=6&year=2024&page=   8 лист последний\n",
        "#https://www.standards.ru/document.aspx?control=54&search=&sort=%20ASC&month=6&cid=6&year=2024&page=   7 лист последний\n",
        "#https://www.standards.ru/document.aspx?control=54&search=&sort=%20ASC&month=5&cid=6&year=2024&page=   7 лист последний\n",
        "#https://www.standards.ru/document.aspx?control=54&search=&sort=%20ASC&month=4&cid=6&year=2024&page=   7 лист последний\n",
        "#https://www.standards.ru/document.aspx?control=54&search=&sort=%20ASC&month=3&cid=6&year=2024&page=   8 лист последний\n",
        "#https://www.standards.ru/document.aspx?control=54&search=&sort=%20ASC&month=2&cid=6&year=2024&page=   9 лист последний\n",
        "#https://www.standards.ru/document.aspx?control=54&search=&sort=%20ASC&month=1&cid=6&year=2024&page=   9 лист последний\n",
        "\n",
        "list_sum=[]\n",
        "for i in range(0,9):   #номер последнего листа на сайте\n",
        "    url='https://www.standards.ru/document.aspx?control=54&search=&sort=%20ASC&month=1&cid=6&year=2024&page='+str(i)\n",
        "    list_sum=list_sum+f_list_aspx(url)\n",
        "    print(list_sum)\n",
        "print(len(list_sum))\n"
      ],
      "metadata": {
        "colab": {
          "base_uri": "https://localhost:8080/"
        },
        "id": "ONqKOv-8j3yS",
        "outputId": "e1aefc5c-b685-4f58-8e45-928ddbbf9577"
      },
      "execution_count": null,
      "outputs": [
        {
          "output_type": "stream",
          "name": "stdout",
          "text": [
            "['7476780.aspx', '7334214.aspx', '7477913.aspx', '7477892.aspx', '7523396.aspx', '7477907.aspx', '7523471.aspx', '7477956.aspx', '7523457.aspx', '7524183.aspx', '7524169.aspx', '7523427.aspx', '7523508.aspx', '7523484.aspx', '7523424.aspx', '7523507.aspx', '7524166.aspx', '7523402.aspx', '7524193.aspx', '7477947.aspx']\n",
            "['7476780.aspx', '7334214.aspx', '7477913.aspx', '7477892.aspx', '7523396.aspx', '7477907.aspx', '7523471.aspx', '7477956.aspx', '7523457.aspx', '7524183.aspx', '7524169.aspx', '7523427.aspx', '7523508.aspx', '7523484.aspx', '7523424.aspx', '7523507.aspx', '7524166.aspx', '7523402.aspx', '7524193.aspx', '7477947.aspx', '7477658.aspx', '7477632.aspx', '7524184.aspx', '7524171.aspx', '7477908.aspx', '7477936.aspx', '7524235.aspx', '7523446.aspx', '7523387.aspx', '7523395.aspx', '7523505.aspx', '7523499.aspx', '7523491.aspx', '7523417.aspx', '7477900.aspx', '7477897.aspx', '7523466.aspx', '7523458.aspx', '7523448.aspx', '7523447.aspx']\n",
            "['7476780.aspx', '7334214.aspx', '7477913.aspx', '7477892.aspx', '7523396.aspx', '7477907.aspx', '7523471.aspx', '7477956.aspx', '7523457.aspx', '7524183.aspx', '7524169.aspx', '7523427.aspx', '7523508.aspx', '7523484.aspx', '7523424.aspx', '7523507.aspx', '7524166.aspx', '7523402.aspx', '7524193.aspx', '7477947.aspx', '7477658.aspx', '7477632.aspx', '7524184.aspx', '7524171.aspx', '7477908.aspx', '7477936.aspx', '7524235.aspx', '7523446.aspx', '7523387.aspx', '7523395.aspx', '7523505.aspx', '7523499.aspx', '7523491.aspx', '7523417.aspx', '7477900.aspx', '7477897.aspx', '7523466.aspx', '7523458.aspx', '7523448.aspx', '7523447.aspx', '7477858.aspx', '7477899.aspx', '7477902.aspx', '7524162.aspx', '7524329.aspx', '7523463.aspx', '7524195.aspx', '7524242.aspx', '7523478.aspx', '7523469.aspx', '7523394.aspx', '7523415.aspx', '7523426.aspx', '7523439.aspx', '7523496.aspx', '7523494.aspx', '7523444.aspx', '7523454.aspx', '7523461.aspx', '7523486.aspx']\n",
            "['7476780.aspx', '7334214.aspx', '7477913.aspx', '7477892.aspx', '7523396.aspx', '7477907.aspx', '7523471.aspx', '7477956.aspx', '7523457.aspx', '7524183.aspx', '7524169.aspx', '7523427.aspx', '7523508.aspx', '7523484.aspx', '7523424.aspx', '7523507.aspx', '7524166.aspx', '7523402.aspx', '7524193.aspx', '7477947.aspx', '7477658.aspx', '7477632.aspx', '7524184.aspx', '7524171.aspx', '7477908.aspx', '7477936.aspx', '7524235.aspx', '7523446.aspx', '7523387.aspx', '7523395.aspx', '7523505.aspx', '7523499.aspx', '7523491.aspx', '7523417.aspx', '7477900.aspx', '7477897.aspx', '7523466.aspx', '7523458.aspx', '7523448.aspx', '7523447.aspx', '7477858.aspx', '7477899.aspx', '7477902.aspx', '7524162.aspx', '7524329.aspx', '7523463.aspx', '7524195.aspx', '7524242.aspx', '7523478.aspx', '7523469.aspx', '7523394.aspx', '7523415.aspx', '7523426.aspx', '7523439.aspx', '7523496.aspx', '7523494.aspx', '7523444.aspx', '7523454.aspx', '7523461.aspx', '7523486.aspx', '7524191.aspx', '7523503.aspx', '7524320.aspx', '7477938.aspx', '7523411.aspx', '7523433.aspx', '7523431.aspx', '7523437.aspx', '7523460.aspx', '7524182.aspx', '7523443.aspx', '7476782.aspx', '7523467.aspx', '7089341.aspx', '7523409.aspx', '7523392.aspx', '7524163.aspx', '7523453.aspx', '7523408.aspx', '7477942.aspx']\n",
            "['7476780.aspx', '7334214.aspx', '7477913.aspx', '7477892.aspx', '7523396.aspx', '7477907.aspx', '7523471.aspx', '7477956.aspx', '7523457.aspx', '7524183.aspx', '7524169.aspx', '7523427.aspx', '7523508.aspx', '7523484.aspx', '7523424.aspx', '7523507.aspx', '7524166.aspx', '7523402.aspx', '7524193.aspx', '7477947.aspx', '7477658.aspx', '7477632.aspx', '7524184.aspx', '7524171.aspx', '7477908.aspx', '7477936.aspx', '7524235.aspx', '7523446.aspx', '7523387.aspx', '7523395.aspx', '7523505.aspx', '7523499.aspx', '7523491.aspx', '7523417.aspx', '7477900.aspx', '7477897.aspx', '7523466.aspx', '7523458.aspx', '7523448.aspx', '7523447.aspx', '7477858.aspx', '7477899.aspx', '7477902.aspx', '7524162.aspx', '7524329.aspx', '7523463.aspx', '7524195.aspx', '7524242.aspx', '7523478.aspx', '7523469.aspx', '7523394.aspx', '7523415.aspx', '7523426.aspx', '7523439.aspx', '7523496.aspx', '7523494.aspx', '7523444.aspx', '7523454.aspx', '7523461.aspx', '7523486.aspx', '7524191.aspx', '7523503.aspx', '7524320.aspx', '7477938.aspx', '7523411.aspx', '7523433.aspx', '7523431.aspx', '7523437.aspx', '7523460.aspx', '7524182.aspx', '7523443.aspx', '7476782.aspx', '7523467.aspx', '7089341.aspx', '7523409.aspx', '7523392.aspx', '7524163.aspx', '7523453.aspx', '7523408.aspx', '7477942.aspx', '7524194.aspx', '7523388.aspx', '7477859.aspx', '7477691.aspx', '7524175.aspx', '7523500.aspx', '7523414.aspx', '7477653.aspx', '7477636.aspx', '7477654.aspx', '7477659.aspx', '7477624.aspx', '7477657.aspx', '7476043.aspx', '7333929.aspx', '7523492.aspx', '7477685.aspx', '7477692.aspx', '7477905.aspx', '7476508.aspx']\n",
            "['7476780.aspx', '7334214.aspx', '7477913.aspx', '7477892.aspx', '7523396.aspx', '7477907.aspx', '7523471.aspx', '7477956.aspx', '7523457.aspx', '7524183.aspx', '7524169.aspx', '7523427.aspx', '7523508.aspx', '7523484.aspx', '7523424.aspx', '7523507.aspx', '7524166.aspx', '7523402.aspx', '7524193.aspx', '7477947.aspx', '7477658.aspx', '7477632.aspx', '7524184.aspx', '7524171.aspx', '7477908.aspx', '7477936.aspx', '7524235.aspx', '7523446.aspx', '7523387.aspx', '7523395.aspx', '7523505.aspx', '7523499.aspx', '7523491.aspx', '7523417.aspx', '7477900.aspx', '7477897.aspx', '7523466.aspx', '7523458.aspx', '7523448.aspx', '7523447.aspx', '7477858.aspx', '7477899.aspx', '7477902.aspx', '7524162.aspx', '7524329.aspx', '7523463.aspx', '7524195.aspx', '7524242.aspx', '7523478.aspx', '7523469.aspx', '7523394.aspx', '7523415.aspx', '7523426.aspx', '7523439.aspx', '7523496.aspx', '7523494.aspx', '7523444.aspx', '7523454.aspx', '7523461.aspx', '7523486.aspx', '7524191.aspx', '7523503.aspx', '7524320.aspx', '7477938.aspx', '7523411.aspx', '7523433.aspx', '7523431.aspx', '7523437.aspx', '7523460.aspx', '7524182.aspx', '7523443.aspx', '7476782.aspx', '7523467.aspx', '7089341.aspx', '7523409.aspx', '7523392.aspx', '7524163.aspx', '7523453.aspx', '7523408.aspx', '7477942.aspx', '7524194.aspx', '7523388.aspx', '7477859.aspx', '7477691.aspx', '7524175.aspx', '7523500.aspx', '7523414.aspx', '7477653.aspx', '7477636.aspx', '7477654.aspx', '7477659.aspx', '7477624.aspx', '7477657.aspx', '7476043.aspx', '7333929.aspx', '7523492.aspx', '7477685.aspx', '7477692.aspx', '7477905.aspx', '7476508.aspx', '7477655.aspx', '7477890.aspx', '7477893.aspx', '7477638.aspx', '7477649.aspx', '7477629.aspx', '7477652.aspx', '7477656.aspx', '7477683.aspx', '7477864.aspx', '7524241.aspx', '7524239.aspx', '7477940.aspx', '7477895.aspx', '7477901.aspx', '7523515.aspx', '7477916.aspx', '7477925.aspx', '7477920.aspx', '7477924.aspx']\n",
            "['7476780.aspx', '7334214.aspx', '7477913.aspx', '7477892.aspx', '7523396.aspx', '7477907.aspx', '7523471.aspx', '7477956.aspx', '7523457.aspx', '7524183.aspx', '7524169.aspx', '7523427.aspx', '7523508.aspx', '7523484.aspx', '7523424.aspx', '7523507.aspx', '7524166.aspx', '7523402.aspx', '7524193.aspx', '7477947.aspx', '7477658.aspx', '7477632.aspx', '7524184.aspx', '7524171.aspx', '7477908.aspx', '7477936.aspx', '7524235.aspx', '7523446.aspx', '7523387.aspx', '7523395.aspx', '7523505.aspx', '7523499.aspx', '7523491.aspx', '7523417.aspx', '7477900.aspx', '7477897.aspx', '7523466.aspx', '7523458.aspx', '7523448.aspx', '7523447.aspx', '7477858.aspx', '7477899.aspx', '7477902.aspx', '7524162.aspx', '7524329.aspx', '7523463.aspx', '7524195.aspx', '7524242.aspx', '7523478.aspx', '7523469.aspx', '7523394.aspx', '7523415.aspx', '7523426.aspx', '7523439.aspx', '7523496.aspx', '7523494.aspx', '7523444.aspx', '7523454.aspx', '7523461.aspx', '7523486.aspx', '7524191.aspx', '7523503.aspx', '7524320.aspx', '7477938.aspx', '7523411.aspx', '7523433.aspx', '7523431.aspx', '7523437.aspx', '7523460.aspx', '7524182.aspx', '7523443.aspx', '7476782.aspx', '7523467.aspx', '7089341.aspx', '7523409.aspx', '7523392.aspx', '7524163.aspx', '7523453.aspx', '7523408.aspx', '7477942.aspx', '7524194.aspx', '7523388.aspx', '7477859.aspx', '7477691.aspx', '7524175.aspx', '7523500.aspx', '7523414.aspx', '7477653.aspx', '7477636.aspx', '7477654.aspx', '7477659.aspx', '7477624.aspx', '7477657.aspx', '7476043.aspx', '7333929.aspx', '7523492.aspx', '7477685.aspx', '7477692.aspx', '7477905.aspx', '7476508.aspx', '7477655.aspx', '7477890.aspx', '7477893.aspx', '7477638.aspx', '7477649.aspx', '7477629.aspx', '7477652.aspx', '7477656.aspx', '7477683.aspx', '7477864.aspx', '7524241.aspx', '7524239.aspx', '7477940.aspx', '7477895.aspx', '7477901.aspx', '7523515.aspx', '7477916.aspx', '7477925.aspx', '7477920.aspx', '7477924.aspx', '7477960.aspx', '7523445.aspx', '7523390.aspx', '7523419.aspx', '7523449.aspx', '7523462.aspx', '7523404.aspx', '7523397.aspx', '7523498.aspx', '7523418.aspx', '7524173.aspx', '7524165.aspx', '7524201.aspx', '7524233.aspx', '7524198.aspx', '7523429.aspx', '7523425.aspx', '7523420.aspx', '7523407.aspx', '7524176.aspx']\n",
            "['7476780.aspx', '7334214.aspx', '7477913.aspx', '7477892.aspx', '7523396.aspx', '7477907.aspx', '7523471.aspx', '7477956.aspx', '7523457.aspx', '7524183.aspx', '7524169.aspx', '7523427.aspx', '7523508.aspx', '7523484.aspx', '7523424.aspx', '7523507.aspx', '7524166.aspx', '7523402.aspx', '7524193.aspx', '7477947.aspx', '7477658.aspx', '7477632.aspx', '7524184.aspx', '7524171.aspx', '7477908.aspx', '7477936.aspx', '7524235.aspx', '7523446.aspx', '7523387.aspx', '7523395.aspx', '7523505.aspx', '7523499.aspx', '7523491.aspx', '7523417.aspx', '7477900.aspx', '7477897.aspx', '7523466.aspx', '7523458.aspx', '7523448.aspx', '7523447.aspx', '7477858.aspx', '7477899.aspx', '7477902.aspx', '7524162.aspx', '7524329.aspx', '7523463.aspx', '7524195.aspx', '7524242.aspx', '7523478.aspx', '7523469.aspx', '7523394.aspx', '7523415.aspx', '7523426.aspx', '7523439.aspx', '7523496.aspx', '7523494.aspx', '7523444.aspx', '7523454.aspx', '7523461.aspx', '7523486.aspx', '7524191.aspx', '7523503.aspx', '7524320.aspx', '7477938.aspx', '7523411.aspx', '7523433.aspx', '7523431.aspx', '7523437.aspx', '7523460.aspx', '7524182.aspx', '7523443.aspx', '7476782.aspx', '7523467.aspx', '7089341.aspx', '7523409.aspx', '7523392.aspx', '7524163.aspx', '7523453.aspx', '7523408.aspx', '7477942.aspx', '7524194.aspx', '7523388.aspx', '7477859.aspx', '7477691.aspx', '7524175.aspx', '7523500.aspx', '7523414.aspx', '7477653.aspx', '7477636.aspx', '7477654.aspx', '7477659.aspx', '7477624.aspx', '7477657.aspx', '7476043.aspx', '7333929.aspx', '7523492.aspx', '7477685.aspx', '7477692.aspx', '7477905.aspx', '7476508.aspx', '7477655.aspx', '7477890.aspx', '7477893.aspx', '7477638.aspx', '7477649.aspx', '7477629.aspx', '7477652.aspx', '7477656.aspx', '7477683.aspx', '7477864.aspx', '7524241.aspx', '7524239.aspx', '7477940.aspx', '7477895.aspx', '7477901.aspx', '7523515.aspx', '7477916.aspx', '7477925.aspx', '7477920.aspx', '7477924.aspx', '7477960.aspx', '7523445.aspx', '7523390.aspx', '7523419.aspx', '7523449.aspx', '7523462.aspx', '7523404.aspx', '7523397.aspx', '7523498.aspx', '7523418.aspx', '7524173.aspx', '7524165.aspx', '7524201.aspx', '7524233.aspx', '7524198.aspx', '7523429.aspx', '7523425.aspx', '7523420.aspx', '7523407.aspx', '7524176.aspx', '7524192.aspx', '7523413.aspx', '7476805.aspx', '7476775.aspx', '7476816.aspx', '7523432.aspx', '7477894.aspx', '7477957.aspx', '7523489.aspx', '7477684.aspx', '7477690.aspx', '7477686.aspx', '7524322.aspx', '7476378.aspx', '7476785.aspx', '7476772.aspx', '7477867.aspx', '7477870.aspx', '7477687.aspx', '7477860.aspx']\n",
            "['7476780.aspx', '7334214.aspx', '7477913.aspx', '7477892.aspx', '7523396.aspx', '7477907.aspx', '7523471.aspx', '7477956.aspx', '7523457.aspx', '7524183.aspx', '7524169.aspx', '7523427.aspx', '7523508.aspx', '7523484.aspx', '7523424.aspx', '7523507.aspx', '7524166.aspx', '7523402.aspx', '7524193.aspx', '7477947.aspx', '7477658.aspx', '7477632.aspx', '7524184.aspx', '7524171.aspx', '7477908.aspx', '7477936.aspx', '7524235.aspx', '7523446.aspx', '7523387.aspx', '7523395.aspx', '7523505.aspx', '7523499.aspx', '7523491.aspx', '7523417.aspx', '7477900.aspx', '7477897.aspx', '7523466.aspx', '7523458.aspx', '7523448.aspx', '7523447.aspx', '7477858.aspx', '7477899.aspx', '7477902.aspx', '7524162.aspx', '7524329.aspx', '7523463.aspx', '7524195.aspx', '7524242.aspx', '7523478.aspx', '7523469.aspx', '7523394.aspx', '7523415.aspx', '7523426.aspx', '7523439.aspx', '7523496.aspx', '7523494.aspx', '7523444.aspx', '7523454.aspx', '7523461.aspx', '7523486.aspx', '7524191.aspx', '7523503.aspx', '7524320.aspx', '7477938.aspx', '7523411.aspx', '7523433.aspx', '7523431.aspx', '7523437.aspx', '7523460.aspx', '7524182.aspx', '7523443.aspx', '7476782.aspx', '7523467.aspx', '7089341.aspx', '7523409.aspx', '7523392.aspx', '7524163.aspx', '7523453.aspx', '7523408.aspx', '7477942.aspx', '7524194.aspx', '7523388.aspx', '7477859.aspx', '7477691.aspx', '7524175.aspx', '7523500.aspx', '7523414.aspx', '7477653.aspx', '7477636.aspx', '7477654.aspx', '7477659.aspx', '7477624.aspx', '7477657.aspx', '7476043.aspx', '7333929.aspx', '7523492.aspx', '7477685.aspx', '7477692.aspx', '7477905.aspx', '7476508.aspx', '7477655.aspx', '7477890.aspx', '7477893.aspx', '7477638.aspx', '7477649.aspx', '7477629.aspx', '7477652.aspx', '7477656.aspx', '7477683.aspx', '7477864.aspx', '7524241.aspx', '7524239.aspx', '7477940.aspx', '7477895.aspx', '7477901.aspx', '7523515.aspx', '7477916.aspx', '7477925.aspx', '7477920.aspx', '7477924.aspx', '7477960.aspx', '7523445.aspx', '7523390.aspx', '7523419.aspx', '7523449.aspx', '7523462.aspx', '7523404.aspx', '7523397.aspx', '7523498.aspx', '7523418.aspx', '7524173.aspx', '7524165.aspx', '7524201.aspx', '7524233.aspx', '7524198.aspx', '7523429.aspx', '7523425.aspx', '7523420.aspx', '7523407.aspx', '7524176.aspx', '7524192.aspx', '7523413.aspx', '7476805.aspx', '7476775.aspx', '7476816.aspx', '7523432.aspx', '7477894.aspx', '7477957.aspx', '7523489.aspx', '7477684.aspx', '7477690.aspx', '7477686.aspx', '7524322.aspx', '7476378.aspx', '7476785.aspx', '7476772.aspx', '7477867.aspx', '7477870.aspx', '7477687.aspx', '7477860.aspx', '7477898.aspx', '7477903.aspx', '7477904.aspx', '7477946.aspx', '7523441.aspx', '7523502.aspx', '7523477.aspx', '7523391.aspx', '7523405.aspx', '7523383.aspx', '7523393.aspx', '7524187.aspx', '7524178.aspx']\n",
            "173\n"
          ]
        }
      ]
    },
    {
      "cell_type": "code",
      "source": [
        "print(list_sum[0],list_sum[172])"
      ],
      "metadata": {
        "colab": {
          "base_uri": "https://localhost:8080/"
        },
        "id": "v27J0ATp0fBc",
        "outputId": "4cb8f3ec-88b8-4da4-fc77-97111d92862e"
      },
      "execution_count": null,
      "outputs": [
        {
          "output_type": "stream",
          "name": "stdout",
          "text": [
            "7476780.aspx 7524178.aspx\n"
          ]
        }
      ]
    },
    {
      "cell_type": "code",
      "source": [
        "#Парсим страницы ГОСТ\n",
        "df_sum=pd.DataFrame()\n",
        "df=pd.DataFrame()\n",
        "for name in list_sum:\n",
        "    url='https://www.standards.ru/document/'+name\n",
        "    table1=pd.read_html(url, encoding=\"WINDOWS-1251\")\n",
        "    df=table1[13]\n",
        "    df_sum=pd.concat([df_sum, df], ignore_index=True)\n",
        "df_sum.to_excel('/content/table_gost_0124.xlsx')"
      ],
      "metadata": {
        "id": "F_PXCrAgWy2f"
      },
      "execution_count": null,
      "outputs": []
    },
    {
      "cell_type": "code",
      "source": [
        "#Р, ПР, РД\n",
        "#https://www.standards.ru/document.aspx?control=54&month=6&year=2024&cid=7\n",
        "#https://www.standards.ru/document.aspx?control=54&month=12&year=2023&cid=7\n",
        "#https://www.standards.ru/document.aspx?control=54&month=11&year=2023&cid=7\n",
        "\n",
        "\n",
        "def f_list_aspx(url):\n",
        "    response = requests.get(url)\n",
        "    soup = BeautifulSoup(response.text, 'lxml')\n",
        "    table1 = soup.find_all('td', class_='tx12')\n",
        "    k=2\n",
        "    list_aspx=[]\n",
        "    for i in range(0,len(table1)):\n",
        "        if  k==2:\n",
        "            str1=str(table1[i])\n",
        "            str2=str1[47:59:1]\n",
        "            list_aspx.append(str2)\n",
        "            k=1\n",
        "        else:\n",
        "            k=2\n",
        "    return list_aspx\n",
        "list_sum=[]\n",
        "for i in range(0,1):   #номер последнего листа на сайте\n",
        "    url='https://www.standards.ru/document.aspx?control=54&month=11&year=2023&cid=7' #+str(i)\n",
        "    list_sum=list_sum+f_list_aspx(url)\n",
        "    print(list_sum)\n",
        "print(len(list_sum))\n"
      ],
      "metadata": {
        "colab": {
          "base_uri": "https://localhost:8080/"
        },
        "id": "_YwGGn5RXTgr",
        "outputId": "7e9064d7-a6bc-4e48-c465-3350870027cd"
      },
      "execution_count": null,
      "outputs": [
        {
          "output_type": "stream",
          "name": "stdout",
          "text": [
            "['7477693.aspx']\n",
            "1\n"
          ]
        }
      ]
    },
    {
      "cell_type": "code",
      "source": [
        "#Парсим страницы PR\n",
        "df_sum=pd.DataFrame()\n",
        "df=pd.DataFrame()\n",
        "for name in list_sum:\n",
        "    url='https://www.standards.ru/document/'+name\n",
        "    table1=pd.read_html(url, encoding=\"WINDOWS-1251\")\n",
        "    df=table1[13]\n",
        "    df_sum=pd.concat([df_sum, df], ignore_index=True)\n",
        "df_sum.to_excel('/content/table_pr_1123.xlsx')"
      ],
      "metadata": {
        "id": "T5idiMJwXuyC"
      },
      "execution_count": null,
      "outputs": []
    },
    {
      "cell_type": "code",
      "source": [
        "#парсил ИСО\n",
        "#https://www.standards.ru/document.aspx?control=54&search=&sort=%20ASC&month=9&cid=175262&year=2024&page=  11л\n",
        "#https://www.standards.ru/document.aspx?control=54&search=&sort=%20ASC&month=8&cid=175262&year=2024&page=   5л\n",
        "#https://www.standards.ru/document.aspx?control=54&search=&sort=%20ASC&month=7&cid=175262&year=2024&page=   7л\n",
        "#https://www.standards.ru/document.aspx?control=54&search=&sort=%20ASC&month=7&cid=175262&year=2024&page=   5л\n",
        "#https://www.standards.ru/document.aspx?control=54&search=&sort=%20ASC&month=5&cid=175262&year=2024&page=   8л\n",
        "#https://www.standards.ru/document.aspx?control=54&search=&sort=%20ASC&month=4&cid=175262&year=2024&page=   5л\n",
        "#https://www.standards.ru/document.aspx?control=54&search=&sort=%20ASC&month=3&cid=175262&year=2024&page=   7л\n",
        "#https://www.standards.ru/document.aspx?control=54&search=&sort=%20ASC&month=2&cid=175262&year=2024&page=   7л\n",
        "#https://www.standards.ru/document.aspx?control=54&search=&sort=%20ASC&month=1&cid=175262&year=2024&page=   6л\n",
        "\n",
        "def f_list_aspx(url):\n",
        "    response = requests.get(url)\n",
        "    soup = BeautifulSoup(response.text, 'lxml')\n",
        "    table1 = soup.find_all('td', class_='tx12')\n",
        "    k=2\n",
        "    list_aspx=[]\n",
        "    for i in range(0,len(table1)):\n",
        "        if  k==2:\n",
        "            str1=str(table1[i])\n",
        "            str2=str1[47:59:1]\n",
        "            list_aspx.append(str2)\n",
        "            k=1\n",
        "        else:\n",
        "            k=2\n",
        "    return list_aspx\n",
        "\n",
        "\n",
        "list_sum=[]\n",
        "for i in range(0,6):   #номер последнего листа на сайте\n",
        "    url='https://www.standards.ru/document.aspx?control=54&search=&sort=%20ASC&month=1&cid=175262&year=2024&page='+str(i)\n",
        "    list_sum=list_sum+f_list_aspx(url)\n",
        "    print(list_sum)\n",
        "print(len(list_sum))\n",
        "\n"
      ],
      "metadata": {
        "colab": {
          "base_uri": "https://localhost:8080/"
        },
        "id": "PacIlJ7hbnQ4",
        "outputId": "b7beb182-158b-4251-8a47-ccb312e8354d"
      },
      "execution_count": null,
      "outputs": [
        {
          "output_type": "stream",
          "name": "stdout",
          "text": [
            "['7524710.aspx', '7524443.aspx', '7524450.aspx', '7524453.aspx', '7524305.aspx', '7524157.aspx', '7524716.aspx', '7524286.aspx', '7524717.aspx', '7524712.aspx', '7524457.aspx', '7524299.aspx', '7524280.aspx', '7524296.aspx', '7524297.aspx', '7524433.aspx', '7524269.aspx', '7524270.aspx', '7524722.aspx', '7524440.aspx']\n",
            "['7524710.aspx', '7524443.aspx', '7524450.aspx', '7524453.aspx', '7524305.aspx', '7524157.aspx', '7524716.aspx', '7524286.aspx', '7524717.aspx', '7524712.aspx', '7524457.aspx', '7524299.aspx', '7524280.aspx', '7524296.aspx', '7524297.aspx', '7524433.aspx', '7524269.aspx', '7524270.aspx', '7524722.aspx', '7524440.aspx', '7524278.aspx', '7524290.aspx', '7524718.aspx', '7524294.aspx', '7524463.aspx', '7524445.aspx', '7524454.aspx', '7524306.aspx', '7524289.aspx', '7524444.aspx', '7524308.aspx', '7524719.aspx', '7524273.aspx', '7524275.aspx', '7524731.aspx', '7524285.aspx', '7524282.aspx', '7524310.aspx', '7524156.aspx', '7524435.aspx']\n",
            "['7524710.aspx', '7524443.aspx', '7524450.aspx', '7524453.aspx', '7524305.aspx', '7524157.aspx', '7524716.aspx', '7524286.aspx', '7524717.aspx', '7524712.aspx', '7524457.aspx', '7524299.aspx', '7524280.aspx', '7524296.aspx', '7524297.aspx', '7524433.aspx', '7524269.aspx', '7524270.aspx', '7524722.aspx', '7524440.aspx', '7524278.aspx', '7524290.aspx', '7524718.aspx', '7524294.aspx', '7524463.aspx', '7524445.aspx', '7524454.aspx', '7524306.aspx', '7524289.aspx', '7524444.aspx', '7524308.aspx', '7524719.aspx', '7524273.aspx', '7524275.aspx', '7524731.aspx', '7524285.aspx', '7524282.aspx', '7524310.aspx', '7524156.aspx', '7524435.aspx', '7524438.aspx', '7524462.aspx', '7524452.aspx', '7524434.aspx', '7524442.aspx', '7524729.aspx', '7524300.aspx', '7524459.aspx', '7524303.aspx', '7524439.aspx', '7524292.aspx', '7524276.aspx', '7524293.aspx', '7524298.aspx', '7524726.aspx', '7524274.aspx', '7524283.aspx', '7524155.aspx', '7524152.aspx', '7524288.aspx']\n",
            "['7524710.aspx', '7524443.aspx', '7524450.aspx', '7524453.aspx', '7524305.aspx', '7524157.aspx', '7524716.aspx', '7524286.aspx', '7524717.aspx', '7524712.aspx', '7524457.aspx', '7524299.aspx', '7524280.aspx', '7524296.aspx', '7524297.aspx', '7524433.aspx', '7524269.aspx', '7524270.aspx', '7524722.aspx', '7524440.aspx', '7524278.aspx', '7524290.aspx', '7524718.aspx', '7524294.aspx', '7524463.aspx', '7524445.aspx', '7524454.aspx', '7524306.aspx', '7524289.aspx', '7524444.aspx', '7524308.aspx', '7524719.aspx', '7524273.aspx', '7524275.aspx', '7524731.aspx', '7524285.aspx', '7524282.aspx', '7524310.aspx', '7524156.aspx', '7524435.aspx', '7524438.aspx', '7524462.aspx', '7524452.aspx', '7524434.aspx', '7524442.aspx', '7524729.aspx', '7524300.aspx', '7524459.aspx', '7524303.aspx', '7524439.aspx', '7524292.aspx', '7524276.aspx', '7524293.aspx', '7524298.aspx', '7524726.aspx', '7524274.aspx', '7524283.aspx', '7524155.aspx', '7524152.aspx', '7524288.aspx', '7524714.aspx', '7524721.aspx', '7524284.aspx', '7524437.aspx', '7524158.aspx', '7524460.aspx', '7524304.aspx', '7524713.aspx', '7524160.aspx', '7524302.aspx', '7524451.aspx', '7524449.aspx', '7524461.aspx', '7524441.aspx', '7524455.aspx', '7524307.aspx', '7524277.aspx', '7524456.aspx', '7524301.aspx', '7524448.aspx']\n",
            "['7524710.aspx', '7524443.aspx', '7524450.aspx', '7524453.aspx', '7524305.aspx', '7524157.aspx', '7524716.aspx', '7524286.aspx', '7524717.aspx', '7524712.aspx', '7524457.aspx', '7524299.aspx', '7524280.aspx', '7524296.aspx', '7524297.aspx', '7524433.aspx', '7524269.aspx', '7524270.aspx', '7524722.aspx', '7524440.aspx', '7524278.aspx', '7524290.aspx', '7524718.aspx', '7524294.aspx', '7524463.aspx', '7524445.aspx', '7524454.aspx', '7524306.aspx', '7524289.aspx', '7524444.aspx', '7524308.aspx', '7524719.aspx', '7524273.aspx', '7524275.aspx', '7524731.aspx', '7524285.aspx', '7524282.aspx', '7524310.aspx', '7524156.aspx', '7524435.aspx', '7524438.aspx', '7524462.aspx', '7524452.aspx', '7524434.aspx', '7524442.aspx', '7524729.aspx', '7524300.aspx', '7524459.aspx', '7524303.aspx', '7524439.aspx', '7524292.aspx', '7524276.aspx', '7524293.aspx', '7524298.aspx', '7524726.aspx', '7524274.aspx', '7524283.aspx', '7524155.aspx', '7524152.aspx', '7524288.aspx', '7524714.aspx', '7524721.aspx', '7524284.aspx', '7524437.aspx', '7524158.aspx', '7524460.aspx', '7524304.aspx', '7524713.aspx', '7524160.aspx', '7524302.aspx', '7524451.aspx', '7524449.aspx', '7524461.aspx', '7524441.aspx', '7524455.aspx', '7524307.aspx', '7524277.aspx', '7524456.aspx', '7524301.aspx', '7524448.aspx', '7524271.aspx', '7524725.aspx', '7524730.aspx', '7524711.aspx', '7524447.aspx', '7524446.aspx', '7524279.aspx', '7524724.aspx', '7524268.aspx', '7524295.aspx', '7524720.aspx', '7524458.aspx', '7524272.aspx', '7524727.aspx', '7524728.aspx', '7524154.aspx', '7524436.aspx', '7524159.aspx', '7524291.aspx', '7524151.aspx']\n",
            "['7524710.aspx', '7524443.aspx', '7524450.aspx', '7524453.aspx', '7524305.aspx', '7524157.aspx', '7524716.aspx', '7524286.aspx', '7524717.aspx', '7524712.aspx', '7524457.aspx', '7524299.aspx', '7524280.aspx', '7524296.aspx', '7524297.aspx', '7524433.aspx', '7524269.aspx', '7524270.aspx', '7524722.aspx', '7524440.aspx', '7524278.aspx', '7524290.aspx', '7524718.aspx', '7524294.aspx', '7524463.aspx', '7524445.aspx', '7524454.aspx', '7524306.aspx', '7524289.aspx', '7524444.aspx', '7524308.aspx', '7524719.aspx', '7524273.aspx', '7524275.aspx', '7524731.aspx', '7524285.aspx', '7524282.aspx', '7524310.aspx', '7524156.aspx', '7524435.aspx', '7524438.aspx', '7524462.aspx', '7524452.aspx', '7524434.aspx', '7524442.aspx', '7524729.aspx', '7524300.aspx', '7524459.aspx', '7524303.aspx', '7524439.aspx', '7524292.aspx', '7524276.aspx', '7524293.aspx', '7524298.aspx', '7524726.aspx', '7524274.aspx', '7524283.aspx', '7524155.aspx', '7524152.aspx', '7524288.aspx', '7524714.aspx', '7524721.aspx', '7524284.aspx', '7524437.aspx', '7524158.aspx', '7524460.aspx', '7524304.aspx', '7524713.aspx', '7524160.aspx', '7524302.aspx', '7524451.aspx', '7524449.aspx', '7524461.aspx', '7524441.aspx', '7524455.aspx', '7524307.aspx', '7524277.aspx', '7524456.aspx', '7524301.aspx', '7524448.aspx', '7524271.aspx', '7524725.aspx', '7524730.aspx', '7524711.aspx', '7524447.aspx', '7524446.aspx', '7524279.aspx', '7524724.aspx', '7524268.aspx', '7524295.aspx', '7524720.aspx', '7524458.aspx', '7524272.aspx', '7524727.aspx', '7524728.aspx', '7524154.aspx', '7524436.aspx', '7524159.aspx', '7524291.aspx', '7524151.aspx', '7524732.aspx', '7524723.aspx', '7524309.aspx', '7524281.aspx', '7524153.aspx', '7524287.aspx', '7524715.aspx', '7524709.aspx']\n",
            "108\n"
          ]
        }
      ]
    },
    {
      "cell_type": "code",
      "source": [
        "#Парсим страницы ИСО\n",
        "df_sum=pd.DataFrame()\n",
        "df=pd.DataFrame()\n",
        "for name in list_sum:\n",
        "    url='https://www.standards.ru/document/'+name\n",
        "    table1=pd.read_html(url, encoding=\"WINDOWS-1251\")\n",
        "    df=table1[13]\n",
        "    df_sum=pd.concat([df_sum, df], ignore_index=True)\n",
        "df_sum.to_excel('/content/table_iso_0124.xlsx')"
      ],
      "metadata": {
        "id": "-RPTV9K1cSru",
        "colab": {
          "base_uri": "https://localhost:8080/",
          "height": 356
        },
        "outputId": "6a92bc4a-367d-4f16-ca07-a3c983062a12"
      },
      "execution_count": 8,
      "outputs": [
        {
          "output_type": "error",
          "ename": "KeyboardInterrupt",
          "evalue": "",
          "traceback": [
            "\u001b[0;31m---------------------------------------------------------------------------\u001b[0m",
            "\u001b[0;31mKeyboardInterrupt\u001b[0m                         Traceback (most recent call last)",
            "\u001b[0;32m<ipython-input-8-ae4e4878fa90>\u001b[0m in \u001b[0;36m<cell line: 4>\u001b[0;34m()\u001b[0m\n\u001b[1;32m      4\u001b[0m \u001b[0;32mfor\u001b[0m \u001b[0mname\u001b[0m \u001b[0;32min\u001b[0m \u001b[0mlist_sum\u001b[0m\u001b[0;34m:\u001b[0m\u001b[0;34m\u001b[0m\u001b[0;34m\u001b[0m\u001b[0m\n\u001b[1;32m      5\u001b[0m     \u001b[0murl\u001b[0m\u001b[0;34m=\u001b[0m\u001b[0;34m'https://www.standards.ru/document/'\u001b[0m\u001b[0;34m+\u001b[0m\u001b[0mname\u001b[0m\u001b[0;34m\u001b[0m\u001b[0;34m\u001b[0m\u001b[0m\n\u001b[0;32m----> 6\u001b[0;31m     \u001b[0mtable1\u001b[0m\u001b[0;34m=\u001b[0m\u001b[0mpd\u001b[0m\u001b[0;34m.\u001b[0m\u001b[0mread_html\u001b[0m\u001b[0;34m(\u001b[0m\u001b[0murl\u001b[0m\u001b[0;34m,\u001b[0m \u001b[0mencoding\u001b[0m\u001b[0;34m=\u001b[0m\u001b[0;34m\"WINDOWS-1251\"\u001b[0m\u001b[0;34m)\u001b[0m\u001b[0;34m\u001b[0m\u001b[0;34m\u001b[0m\u001b[0m\n\u001b[0m\u001b[1;32m      7\u001b[0m     \u001b[0mdf\u001b[0m\u001b[0;34m=\u001b[0m\u001b[0mtable1\u001b[0m\u001b[0;34m[\u001b[0m\u001b[0;36m13\u001b[0m\u001b[0;34m]\u001b[0m\u001b[0;34m\u001b[0m\u001b[0;34m\u001b[0m\u001b[0m\n\u001b[1;32m      8\u001b[0m     \u001b[0mdf_sum\u001b[0m\u001b[0;34m=\u001b[0m\u001b[0mpd\u001b[0m\u001b[0;34m.\u001b[0m\u001b[0mconcat\u001b[0m\u001b[0;34m(\u001b[0m\u001b[0;34m[\u001b[0m\u001b[0mdf_sum\u001b[0m\u001b[0;34m,\u001b[0m \u001b[0mdf\u001b[0m\u001b[0;34m]\u001b[0m\u001b[0;34m,\u001b[0m \u001b[0mignore_index\u001b[0m\u001b[0;34m=\u001b[0m\u001b[0;32mTrue\u001b[0m\u001b[0;34m)\u001b[0m\u001b[0;34m\u001b[0m\u001b[0;34m\u001b[0m\u001b[0m\n",
            "\u001b[0;32m/usr/local/lib/python3.10/dist-packages/pandas/io/html.py\u001b[0m in \u001b[0;36mread_html\u001b[0;34m(io, match, flavor, header, index_col, skiprows, attrs, parse_dates, thousands, encoding, decimal, converters, na_values, keep_default_na, displayed_only, extract_links, dtype_backend, storage_options)\u001b[0m\n\u001b[1;32m   1238\u001b[0m         )\n\u001b[1;32m   1239\u001b[0m \u001b[0;34m\u001b[0m\u001b[0m\n\u001b[0;32m-> 1240\u001b[0;31m     return _parse(\n\u001b[0m\u001b[1;32m   1241\u001b[0m         \u001b[0mflavor\u001b[0m\u001b[0;34m=\u001b[0m\u001b[0mflavor\u001b[0m\u001b[0;34m,\u001b[0m\u001b[0;34m\u001b[0m\u001b[0;34m\u001b[0m\u001b[0m\n\u001b[1;32m   1242\u001b[0m         \u001b[0mio\u001b[0m\u001b[0;34m=\u001b[0m\u001b[0mio\u001b[0m\u001b[0;34m,\u001b[0m\u001b[0;34m\u001b[0m\u001b[0;34m\u001b[0m\u001b[0m\n",
            "\u001b[0;32m/usr/local/lib/python3.10/dist-packages/pandas/io/html.py\u001b[0m in \u001b[0;36m_parse\u001b[0;34m(flavor, io, match, attrs, encoding, displayed_only, extract_links, storage_options, **kwargs)\u001b[0m\n\u001b[1;32m    981\u001b[0m \u001b[0;34m\u001b[0m\u001b[0m\n\u001b[1;32m    982\u001b[0m         \u001b[0;32mtry\u001b[0m\u001b[0;34m:\u001b[0m\u001b[0;34m\u001b[0m\u001b[0;34m\u001b[0m\u001b[0m\n\u001b[0;32m--> 983\u001b[0;31m             \u001b[0mtables\u001b[0m \u001b[0;34m=\u001b[0m \u001b[0mp\u001b[0m\u001b[0;34m.\u001b[0m\u001b[0mparse_tables\u001b[0m\u001b[0;34m(\u001b[0m\u001b[0;34m)\u001b[0m\u001b[0;34m\u001b[0m\u001b[0;34m\u001b[0m\u001b[0m\n\u001b[0m\u001b[1;32m    984\u001b[0m         \u001b[0;32mexcept\u001b[0m \u001b[0mValueError\u001b[0m \u001b[0;32mas\u001b[0m \u001b[0mcaught\u001b[0m\u001b[0;34m:\u001b[0m\u001b[0;34m\u001b[0m\u001b[0;34m\u001b[0m\u001b[0m\n\u001b[1;32m    985\u001b[0m             \u001b[0;31m# if `io` is an io-like object, check if it's seekable\u001b[0m\u001b[0;34m\u001b[0m\u001b[0;34m\u001b[0m\u001b[0m\n",
            "\u001b[0;32m/usr/local/lib/python3.10/dist-packages/pandas/io/html.py\u001b[0m in \u001b[0;36mparse_tables\u001b[0;34m(self)\u001b[0m\n\u001b[1;32m    247\u001b[0m         \u001b[0mlist\u001b[0m \u001b[0mof\u001b[0m \u001b[0mparsed\u001b[0m \u001b[0;34m(\u001b[0m\u001b[0mheader\u001b[0m\u001b[0;34m,\u001b[0m \u001b[0mbody\u001b[0m\u001b[0;34m,\u001b[0m \u001b[0mfooter\u001b[0m\u001b[0;34m)\u001b[0m \u001b[0mtuples\u001b[0m \u001b[0;32mfrom\u001b[0m \u001b[0mtables\u001b[0m\u001b[0;34m.\u001b[0m\u001b[0;34m\u001b[0m\u001b[0;34m\u001b[0m\u001b[0m\n\u001b[1;32m    248\u001b[0m         \"\"\"\n\u001b[0;32m--> 249\u001b[0;31m         \u001b[0mtables\u001b[0m \u001b[0;34m=\u001b[0m \u001b[0mself\u001b[0m\u001b[0;34m.\u001b[0m\u001b[0m_parse_tables\u001b[0m\u001b[0;34m(\u001b[0m\u001b[0mself\u001b[0m\u001b[0;34m.\u001b[0m\u001b[0m_build_doc\u001b[0m\u001b[0;34m(\u001b[0m\u001b[0;34m)\u001b[0m\u001b[0;34m,\u001b[0m \u001b[0mself\u001b[0m\u001b[0;34m.\u001b[0m\u001b[0mmatch\u001b[0m\u001b[0;34m,\u001b[0m \u001b[0mself\u001b[0m\u001b[0;34m.\u001b[0m\u001b[0mattrs\u001b[0m\u001b[0;34m)\u001b[0m\u001b[0;34m\u001b[0m\u001b[0;34m\u001b[0m\u001b[0m\n\u001b[0m\u001b[1;32m    250\u001b[0m         \u001b[0;32mreturn\u001b[0m \u001b[0;34m(\u001b[0m\u001b[0mself\u001b[0m\u001b[0;34m.\u001b[0m\u001b[0m_parse_thead_tbody_tfoot\u001b[0m\u001b[0;34m(\u001b[0m\u001b[0mtable\u001b[0m\u001b[0;34m)\u001b[0m \u001b[0;32mfor\u001b[0m \u001b[0mtable\u001b[0m \u001b[0;32min\u001b[0m \u001b[0mtables\u001b[0m\u001b[0;34m)\u001b[0m\u001b[0;34m\u001b[0m\u001b[0;34m\u001b[0m\u001b[0m\n\u001b[1;32m    251\u001b[0m \u001b[0;34m\u001b[0m\u001b[0m\n",
            "\u001b[0;32m/usr/local/lib/python3.10/dist-packages/pandas/io/html.py\u001b[0m in \u001b[0;36m_build_doc\u001b[0;34m(self)\u001b[0m\n\u001b[1;32m    783\u001b[0m         \u001b[0;32mtry\u001b[0m\u001b[0;34m:\u001b[0m\u001b[0;34m\u001b[0m\u001b[0;34m\u001b[0m\u001b[0m\n\u001b[1;32m    784\u001b[0m             \u001b[0;32mif\u001b[0m \u001b[0mis_url\u001b[0m\u001b[0;34m(\u001b[0m\u001b[0mself\u001b[0m\u001b[0;34m.\u001b[0m\u001b[0mio\u001b[0m\u001b[0;34m)\u001b[0m\u001b[0;34m:\u001b[0m\u001b[0;34m\u001b[0m\u001b[0;34m\u001b[0m\u001b[0m\n\u001b[0;32m--> 785\u001b[0;31m                 with get_handle(\n\u001b[0m\u001b[1;32m    786\u001b[0m                     \u001b[0mself\u001b[0m\u001b[0;34m.\u001b[0m\u001b[0mio\u001b[0m\u001b[0;34m,\u001b[0m \u001b[0;34m\"r\"\u001b[0m\u001b[0;34m,\u001b[0m \u001b[0mstorage_options\u001b[0m\u001b[0;34m=\u001b[0m\u001b[0mself\u001b[0m\u001b[0;34m.\u001b[0m\u001b[0mstorage_options\u001b[0m\u001b[0;34m\u001b[0m\u001b[0;34m\u001b[0m\u001b[0m\n\u001b[1;32m    787\u001b[0m                 ) as f:\n",
            "\u001b[0;32m/usr/local/lib/python3.10/dist-packages/pandas/io/common.py\u001b[0m in \u001b[0;36mget_handle\u001b[0;34m(path_or_buf, mode, encoding, compression, memory_map, is_text, errors, storage_options)\u001b[0m\n\u001b[1;32m    726\u001b[0m \u001b[0;34m\u001b[0m\u001b[0m\n\u001b[1;32m    727\u001b[0m     \u001b[0;31m# open URLs\u001b[0m\u001b[0;34m\u001b[0m\u001b[0;34m\u001b[0m\u001b[0m\n\u001b[0;32m--> 728\u001b[0;31m     ioargs = _get_filepath_or_buffer(\n\u001b[0m\u001b[1;32m    729\u001b[0m         \u001b[0mpath_or_buf\u001b[0m\u001b[0;34m,\u001b[0m\u001b[0;34m\u001b[0m\u001b[0;34m\u001b[0m\u001b[0m\n\u001b[1;32m    730\u001b[0m         \u001b[0mencoding\u001b[0m\u001b[0;34m=\u001b[0m\u001b[0mencoding\u001b[0m\u001b[0;34m,\u001b[0m\u001b[0;34m\u001b[0m\u001b[0;34m\u001b[0m\u001b[0m\n",
            "\u001b[0;32m/usr/local/lib/python3.10/dist-packages/pandas/io/common.py\u001b[0m in \u001b[0;36m_get_filepath_or_buffer\u001b[0;34m(filepath_or_buffer, encoding, compression, mode, storage_options)\u001b[0m\n\u001b[1;32m    382\u001b[0m         \u001b[0;31m# assuming storage_options is to be interpreted as headers\u001b[0m\u001b[0;34m\u001b[0m\u001b[0;34m\u001b[0m\u001b[0m\n\u001b[1;32m    383\u001b[0m         \u001b[0mreq_info\u001b[0m \u001b[0;34m=\u001b[0m \u001b[0murllib\u001b[0m\u001b[0;34m.\u001b[0m\u001b[0mrequest\u001b[0m\u001b[0;34m.\u001b[0m\u001b[0mRequest\u001b[0m\u001b[0;34m(\u001b[0m\u001b[0mfilepath_or_buffer\u001b[0m\u001b[0;34m,\u001b[0m \u001b[0mheaders\u001b[0m\u001b[0;34m=\u001b[0m\u001b[0mstorage_options\u001b[0m\u001b[0;34m)\u001b[0m\u001b[0;34m\u001b[0m\u001b[0;34m\u001b[0m\u001b[0m\n\u001b[0;32m--> 384\u001b[0;31m         \u001b[0;32mwith\u001b[0m \u001b[0murlopen\u001b[0m\u001b[0;34m(\u001b[0m\u001b[0mreq_info\u001b[0m\u001b[0;34m)\u001b[0m \u001b[0;32mas\u001b[0m \u001b[0mreq\u001b[0m\u001b[0;34m:\u001b[0m\u001b[0;34m\u001b[0m\u001b[0;34m\u001b[0m\u001b[0m\n\u001b[0m\u001b[1;32m    385\u001b[0m             \u001b[0mcontent_encoding\u001b[0m \u001b[0;34m=\u001b[0m \u001b[0mreq\u001b[0m\u001b[0;34m.\u001b[0m\u001b[0mheaders\u001b[0m\u001b[0;34m.\u001b[0m\u001b[0mget\u001b[0m\u001b[0;34m(\u001b[0m\u001b[0;34m\"Content-Encoding\"\u001b[0m\u001b[0;34m,\u001b[0m \u001b[0;32mNone\u001b[0m\u001b[0;34m)\u001b[0m\u001b[0;34m\u001b[0m\u001b[0;34m\u001b[0m\u001b[0m\n\u001b[1;32m    386\u001b[0m             \u001b[0;32mif\u001b[0m \u001b[0mcontent_encoding\u001b[0m \u001b[0;34m==\u001b[0m \u001b[0;34m\"gzip\"\u001b[0m\u001b[0;34m:\u001b[0m\u001b[0;34m\u001b[0m\u001b[0;34m\u001b[0m\u001b[0m\n",
            "\u001b[0;32m/usr/local/lib/python3.10/dist-packages/pandas/io/common.py\u001b[0m in \u001b[0;36murlopen\u001b[0;34m(*args, **kwargs)\u001b[0m\n\u001b[1;32m    287\u001b[0m     \u001b[0;32mimport\u001b[0m \u001b[0murllib\u001b[0m\u001b[0;34m.\u001b[0m\u001b[0mrequest\u001b[0m\u001b[0;34m\u001b[0m\u001b[0;34m\u001b[0m\u001b[0m\n\u001b[1;32m    288\u001b[0m \u001b[0;34m\u001b[0m\u001b[0m\n\u001b[0;32m--> 289\u001b[0;31m     \u001b[0;32mreturn\u001b[0m \u001b[0murllib\u001b[0m\u001b[0;34m.\u001b[0m\u001b[0mrequest\u001b[0m\u001b[0;34m.\u001b[0m\u001b[0murlopen\u001b[0m\u001b[0;34m(\u001b[0m\u001b[0;34m*\u001b[0m\u001b[0margs\u001b[0m\u001b[0;34m,\u001b[0m \u001b[0;34m**\u001b[0m\u001b[0mkwargs\u001b[0m\u001b[0;34m)\u001b[0m\u001b[0;34m\u001b[0m\u001b[0;34m\u001b[0m\u001b[0m\n\u001b[0m\u001b[1;32m    290\u001b[0m \u001b[0;34m\u001b[0m\u001b[0m\n\u001b[1;32m    291\u001b[0m \u001b[0;34m\u001b[0m\u001b[0m\n",
            "\u001b[0;32m/usr/lib/python3.10/urllib/request.py\u001b[0m in \u001b[0;36murlopen\u001b[0;34m(url, data, timeout, cafile, capath, cadefault, context)\u001b[0m\n\u001b[1;32m    214\u001b[0m     \u001b[0;32melse\u001b[0m\u001b[0;34m:\u001b[0m\u001b[0;34m\u001b[0m\u001b[0;34m\u001b[0m\u001b[0m\n\u001b[1;32m    215\u001b[0m         \u001b[0mopener\u001b[0m \u001b[0;34m=\u001b[0m \u001b[0m_opener\u001b[0m\u001b[0;34m\u001b[0m\u001b[0;34m\u001b[0m\u001b[0m\n\u001b[0;32m--> 216\u001b[0;31m     \u001b[0;32mreturn\u001b[0m \u001b[0mopener\u001b[0m\u001b[0;34m.\u001b[0m\u001b[0mopen\u001b[0m\u001b[0;34m(\u001b[0m\u001b[0murl\u001b[0m\u001b[0;34m,\u001b[0m \u001b[0mdata\u001b[0m\u001b[0;34m,\u001b[0m \u001b[0mtimeout\u001b[0m\u001b[0;34m)\u001b[0m\u001b[0;34m\u001b[0m\u001b[0;34m\u001b[0m\u001b[0m\n\u001b[0m\u001b[1;32m    217\u001b[0m \u001b[0;34m\u001b[0m\u001b[0m\n\u001b[1;32m    218\u001b[0m \u001b[0;32mdef\u001b[0m \u001b[0minstall_opener\u001b[0m\u001b[0;34m(\u001b[0m\u001b[0mopener\u001b[0m\u001b[0;34m)\u001b[0m\u001b[0;34m:\u001b[0m\u001b[0;34m\u001b[0m\u001b[0;34m\u001b[0m\u001b[0m\n",
            "\u001b[0;32m/usr/lib/python3.10/urllib/request.py\u001b[0m in \u001b[0;36mopen\u001b[0;34m(self, fullurl, data, timeout)\u001b[0m\n\u001b[1;32m    517\u001b[0m \u001b[0;34m\u001b[0m\u001b[0m\n\u001b[1;32m    518\u001b[0m         \u001b[0msys\u001b[0m\u001b[0;34m.\u001b[0m\u001b[0maudit\u001b[0m\u001b[0;34m(\u001b[0m\u001b[0;34m'urllib.Request'\u001b[0m\u001b[0;34m,\u001b[0m \u001b[0mreq\u001b[0m\u001b[0;34m.\u001b[0m\u001b[0mfull_url\u001b[0m\u001b[0;34m,\u001b[0m \u001b[0mreq\u001b[0m\u001b[0;34m.\u001b[0m\u001b[0mdata\u001b[0m\u001b[0;34m,\u001b[0m \u001b[0mreq\u001b[0m\u001b[0;34m.\u001b[0m\u001b[0mheaders\u001b[0m\u001b[0;34m,\u001b[0m \u001b[0mreq\u001b[0m\u001b[0;34m.\u001b[0m\u001b[0mget_method\u001b[0m\u001b[0;34m(\u001b[0m\u001b[0;34m)\u001b[0m\u001b[0;34m)\u001b[0m\u001b[0;34m\u001b[0m\u001b[0;34m\u001b[0m\u001b[0m\n\u001b[0;32m--> 519\u001b[0;31m         \u001b[0mresponse\u001b[0m \u001b[0;34m=\u001b[0m \u001b[0mself\u001b[0m\u001b[0;34m.\u001b[0m\u001b[0m_open\u001b[0m\u001b[0;34m(\u001b[0m\u001b[0mreq\u001b[0m\u001b[0;34m,\u001b[0m \u001b[0mdata\u001b[0m\u001b[0;34m)\u001b[0m\u001b[0;34m\u001b[0m\u001b[0;34m\u001b[0m\u001b[0m\n\u001b[0m\u001b[1;32m    520\u001b[0m \u001b[0;34m\u001b[0m\u001b[0m\n\u001b[1;32m    521\u001b[0m         \u001b[0;31m# post-process response\u001b[0m\u001b[0;34m\u001b[0m\u001b[0;34m\u001b[0m\u001b[0m\n",
            "\u001b[0;32m/usr/lib/python3.10/urllib/request.py\u001b[0m in \u001b[0;36m_open\u001b[0;34m(self, req, data)\u001b[0m\n\u001b[1;32m    534\u001b[0m \u001b[0;34m\u001b[0m\u001b[0m\n\u001b[1;32m    535\u001b[0m         \u001b[0mprotocol\u001b[0m \u001b[0;34m=\u001b[0m \u001b[0mreq\u001b[0m\u001b[0;34m.\u001b[0m\u001b[0mtype\u001b[0m\u001b[0;34m\u001b[0m\u001b[0;34m\u001b[0m\u001b[0m\n\u001b[0;32m--> 536\u001b[0;31m         result = self._call_chain(self.handle_open, protocol, protocol +\n\u001b[0m\u001b[1;32m    537\u001b[0m                                   '_open', req)\n\u001b[1;32m    538\u001b[0m         \u001b[0;32mif\u001b[0m \u001b[0mresult\u001b[0m\u001b[0;34m:\u001b[0m\u001b[0;34m\u001b[0m\u001b[0;34m\u001b[0m\u001b[0m\n",
            "\u001b[0;32m/usr/lib/python3.10/urllib/request.py\u001b[0m in \u001b[0;36m_call_chain\u001b[0;34m(self, chain, kind, meth_name, *args)\u001b[0m\n\u001b[1;32m    494\u001b[0m         \u001b[0;32mfor\u001b[0m \u001b[0mhandler\u001b[0m \u001b[0;32min\u001b[0m \u001b[0mhandlers\u001b[0m\u001b[0;34m:\u001b[0m\u001b[0;34m\u001b[0m\u001b[0;34m\u001b[0m\u001b[0m\n\u001b[1;32m    495\u001b[0m             \u001b[0mfunc\u001b[0m \u001b[0;34m=\u001b[0m \u001b[0mgetattr\u001b[0m\u001b[0;34m(\u001b[0m\u001b[0mhandler\u001b[0m\u001b[0;34m,\u001b[0m \u001b[0mmeth_name\u001b[0m\u001b[0;34m)\u001b[0m\u001b[0;34m\u001b[0m\u001b[0;34m\u001b[0m\u001b[0m\n\u001b[0;32m--> 496\u001b[0;31m             \u001b[0mresult\u001b[0m \u001b[0;34m=\u001b[0m \u001b[0mfunc\u001b[0m\u001b[0;34m(\u001b[0m\u001b[0;34m*\u001b[0m\u001b[0margs\u001b[0m\u001b[0;34m)\u001b[0m\u001b[0;34m\u001b[0m\u001b[0;34m\u001b[0m\u001b[0m\n\u001b[0m\u001b[1;32m    497\u001b[0m             \u001b[0;32mif\u001b[0m \u001b[0mresult\u001b[0m \u001b[0;32mis\u001b[0m \u001b[0;32mnot\u001b[0m \u001b[0;32mNone\u001b[0m\u001b[0;34m:\u001b[0m\u001b[0;34m\u001b[0m\u001b[0;34m\u001b[0m\u001b[0m\n\u001b[1;32m    498\u001b[0m                 \u001b[0;32mreturn\u001b[0m \u001b[0mresult\u001b[0m\u001b[0;34m\u001b[0m\u001b[0;34m\u001b[0m\u001b[0m\n",
            "\u001b[0;32m/usr/lib/python3.10/urllib/request.py\u001b[0m in \u001b[0;36mhttps_open\u001b[0;34m(self, req)\u001b[0m\n\u001b[1;32m   1389\u001b[0m \u001b[0;34m\u001b[0m\u001b[0m\n\u001b[1;32m   1390\u001b[0m         \u001b[0;32mdef\u001b[0m \u001b[0mhttps_open\u001b[0m\u001b[0;34m(\u001b[0m\u001b[0mself\u001b[0m\u001b[0;34m,\u001b[0m \u001b[0mreq\u001b[0m\u001b[0;34m)\u001b[0m\u001b[0;34m:\u001b[0m\u001b[0;34m\u001b[0m\u001b[0;34m\u001b[0m\u001b[0m\n\u001b[0;32m-> 1391\u001b[0;31m             return self.do_open(http.client.HTTPSConnection, req,\n\u001b[0m\u001b[1;32m   1392\u001b[0m                 context=self._context, check_hostname=self._check_hostname)\n\u001b[1;32m   1393\u001b[0m \u001b[0;34m\u001b[0m\u001b[0m\n",
            "\u001b[0;32m/usr/lib/python3.10/urllib/request.py\u001b[0m in \u001b[0;36mdo_open\u001b[0;34m(self, http_class, req, **http_conn_args)\u001b[0m\n\u001b[1;32m   1350\u001b[0m             \u001b[0;32mexcept\u001b[0m \u001b[0mOSError\u001b[0m \u001b[0;32mas\u001b[0m \u001b[0merr\u001b[0m\u001b[0;34m:\u001b[0m \u001b[0;31m# timeout error\u001b[0m\u001b[0;34m\u001b[0m\u001b[0;34m\u001b[0m\u001b[0m\n\u001b[1;32m   1351\u001b[0m                 \u001b[0;32mraise\u001b[0m \u001b[0mURLError\u001b[0m\u001b[0;34m(\u001b[0m\u001b[0merr\u001b[0m\u001b[0;34m)\u001b[0m\u001b[0;34m\u001b[0m\u001b[0;34m\u001b[0m\u001b[0m\n\u001b[0;32m-> 1352\u001b[0;31m             \u001b[0mr\u001b[0m \u001b[0;34m=\u001b[0m \u001b[0mh\u001b[0m\u001b[0;34m.\u001b[0m\u001b[0mgetresponse\u001b[0m\u001b[0;34m(\u001b[0m\u001b[0;34m)\u001b[0m\u001b[0;34m\u001b[0m\u001b[0;34m\u001b[0m\u001b[0m\n\u001b[0m\u001b[1;32m   1353\u001b[0m         \u001b[0;32mexcept\u001b[0m\u001b[0;34m:\u001b[0m\u001b[0;34m\u001b[0m\u001b[0;34m\u001b[0m\u001b[0m\n\u001b[1;32m   1354\u001b[0m             \u001b[0mh\u001b[0m\u001b[0;34m.\u001b[0m\u001b[0mclose\u001b[0m\u001b[0;34m(\u001b[0m\u001b[0;34m)\u001b[0m\u001b[0;34m\u001b[0m\u001b[0;34m\u001b[0m\u001b[0m\n",
            "\u001b[0;32m/usr/lib/python3.10/http/client.py\u001b[0m in \u001b[0;36mgetresponse\u001b[0;34m(self)\u001b[0m\n\u001b[1;32m   1373\u001b[0m         \u001b[0;32mtry\u001b[0m\u001b[0;34m:\u001b[0m\u001b[0;34m\u001b[0m\u001b[0;34m\u001b[0m\u001b[0m\n\u001b[1;32m   1374\u001b[0m             \u001b[0;32mtry\u001b[0m\u001b[0;34m:\u001b[0m\u001b[0;34m\u001b[0m\u001b[0;34m\u001b[0m\u001b[0m\n\u001b[0;32m-> 1375\u001b[0;31m                 \u001b[0mresponse\u001b[0m\u001b[0;34m.\u001b[0m\u001b[0mbegin\u001b[0m\u001b[0;34m(\u001b[0m\u001b[0;34m)\u001b[0m\u001b[0;34m\u001b[0m\u001b[0;34m\u001b[0m\u001b[0m\n\u001b[0m\u001b[1;32m   1376\u001b[0m             \u001b[0;32mexcept\u001b[0m \u001b[0mConnectionError\u001b[0m\u001b[0;34m:\u001b[0m\u001b[0;34m\u001b[0m\u001b[0;34m\u001b[0m\u001b[0m\n\u001b[1;32m   1377\u001b[0m                 \u001b[0mself\u001b[0m\u001b[0;34m.\u001b[0m\u001b[0mclose\u001b[0m\u001b[0;34m(\u001b[0m\u001b[0;34m)\u001b[0m\u001b[0;34m\u001b[0m\u001b[0;34m\u001b[0m\u001b[0m\n",
            "\u001b[0;32m/usr/lib/python3.10/http/client.py\u001b[0m in \u001b[0;36mbegin\u001b[0;34m(self)\u001b[0m\n\u001b[1;32m    316\u001b[0m         \u001b[0;31m# read until we get a non-100 response\u001b[0m\u001b[0;34m\u001b[0m\u001b[0;34m\u001b[0m\u001b[0m\n\u001b[1;32m    317\u001b[0m         \u001b[0;32mwhile\u001b[0m \u001b[0;32mTrue\u001b[0m\u001b[0;34m:\u001b[0m\u001b[0;34m\u001b[0m\u001b[0;34m\u001b[0m\u001b[0m\n\u001b[0;32m--> 318\u001b[0;31m             \u001b[0mversion\u001b[0m\u001b[0;34m,\u001b[0m \u001b[0mstatus\u001b[0m\u001b[0;34m,\u001b[0m \u001b[0mreason\u001b[0m \u001b[0;34m=\u001b[0m \u001b[0mself\u001b[0m\u001b[0;34m.\u001b[0m\u001b[0m_read_status\u001b[0m\u001b[0;34m(\u001b[0m\u001b[0;34m)\u001b[0m\u001b[0;34m\u001b[0m\u001b[0;34m\u001b[0m\u001b[0m\n\u001b[0m\u001b[1;32m    319\u001b[0m             \u001b[0;32mif\u001b[0m \u001b[0mstatus\u001b[0m \u001b[0;34m!=\u001b[0m \u001b[0mCONTINUE\u001b[0m\u001b[0;34m:\u001b[0m\u001b[0;34m\u001b[0m\u001b[0;34m\u001b[0m\u001b[0m\n\u001b[1;32m    320\u001b[0m                 \u001b[0;32mbreak\u001b[0m\u001b[0;34m\u001b[0m\u001b[0;34m\u001b[0m\u001b[0m\n",
            "\u001b[0;32m/usr/lib/python3.10/http/client.py\u001b[0m in \u001b[0;36m_read_status\u001b[0;34m(self)\u001b[0m\n\u001b[1;32m    277\u001b[0m \u001b[0;34m\u001b[0m\u001b[0m\n\u001b[1;32m    278\u001b[0m     \u001b[0;32mdef\u001b[0m \u001b[0m_read_status\u001b[0m\u001b[0;34m(\u001b[0m\u001b[0mself\u001b[0m\u001b[0;34m)\u001b[0m\u001b[0;34m:\u001b[0m\u001b[0;34m\u001b[0m\u001b[0;34m\u001b[0m\u001b[0m\n\u001b[0;32m--> 279\u001b[0;31m         \u001b[0mline\u001b[0m \u001b[0;34m=\u001b[0m \u001b[0mstr\u001b[0m\u001b[0;34m(\u001b[0m\u001b[0mself\u001b[0m\u001b[0;34m.\u001b[0m\u001b[0mfp\u001b[0m\u001b[0;34m.\u001b[0m\u001b[0mreadline\u001b[0m\u001b[0;34m(\u001b[0m\u001b[0m_MAXLINE\u001b[0m \u001b[0;34m+\u001b[0m \u001b[0;36m1\u001b[0m\u001b[0;34m)\u001b[0m\u001b[0;34m,\u001b[0m \u001b[0;34m\"iso-8859-1\"\u001b[0m\u001b[0;34m)\u001b[0m\u001b[0;34m\u001b[0m\u001b[0;34m\u001b[0m\u001b[0m\n\u001b[0m\u001b[1;32m    280\u001b[0m         \u001b[0;32mif\u001b[0m \u001b[0mlen\u001b[0m\u001b[0;34m(\u001b[0m\u001b[0mline\u001b[0m\u001b[0;34m)\u001b[0m \u001b[0;34m>\u001b[0m \u001b[0m_MAXLINE\u001b[0m\u001b[0;34m:\u001b[0m\u001b[0;34m\u001b[0m\u001b[0;34m\u001b[0m\u001b[0m\n\u001b[1;32m    281\u001b[0m             \u001b[0;32mraise\u001b[0m \u001b[0mLineTooLong\u001b[0m\u001b[0;34m(\u001b[0m\u001b[0;34m\"status line\"\u001b[0m\u001b[0;34m)\u001b[0m\u001b[0;34m\u001b[0m\u001b[0;34m\u001b[0m\u001b[0m\n",
            "\u001b[0;32m/usr/lib/python3.10/socket.py\u001b[0m in \u001b[0;36mreadinto\u001b[0;34m(self, b)\u001b[0m\n\u001b[1;32m    703\u001b[0m         \u001b[0;32mwhile\u001b[0m \u001b[0;32mTrue\u001b[0m\u001b[0;34m:\u001b[0m\u001b[0;34m\u001b[0m\u001b[0;34m\u001b[0m\u001b[0m\n\u001b[1;32m    704\u001b[0m             \u001b[0;32mtry\u001b[0m\u001b[0;34m:\u001b[0m\u001b[0;34m\u001b[0m\u001b[0;34m\u001b[0m\u001b[0m\n\u001b[0;32m--> 705\u001b[0;31m                 \u001b[0;32mreturn\u001b[0m \u001b[0mself\u001b[0m\u001b[0;34m.\u001b[0m\u001b[0m_sock\u001b[0m\u001b[0;34m.\u001b[0m\u001b[0mrecv_into\u001b[0m\u001b[0;34m(\u001b[0m\u001b[0mb\u001b[0m\u001b[0;34m)\u001b[0m\u001b[0;34m\u001b[0m\u001b[0;34m\u001b[0m\u001b[0m\n\u001b[0m\u001b[1;32m    706\u001b[0m             \u001b[0;32mexcept\u001b[0m \u001b[0mtimeout\u001b[0m\u001b[0;34m:\u001b[0m\u001b[0;34m\u001b[0m\u001b[0;34m\u001b[0m\u001b[0m\n\u001b[1;32m    707\u001b[0m                 \u001b[0mself\u001b[0m\u001b[0;34m.\u001b[0m\u001b[0m_timeout_occurred\u001b[0m \u001b[0;34m=\u001b[0m \u001b[0;32mTrue\u001b[0m\u001b[0;34m\u001b[0m\u001b[0;34m\u001b[0m\u001b[0m\n",
            "\u001b[0;32m/usr/lib/python3.10/ssl.py\u001b[0m in \u001b[0;36mrecv_into\u001b[0;34m(self, buffer, nbytes, flags)\u001b[0m\n\u001b[1;32m   1301\u001b[0m                   \u001b[0;34m\"non-zero flags not allowed in calls to recv_into() on %s\"\u001b[0m \u001b[0;34m%\u001b[0m\u001b[0;34m\u001b[0m\u001b[0;34m\u001b[0m\u001b[0m\n\u001b[1;32m   1302\u001b[0m                   self.__class__)\n\u001b[0;32m-> 1303\u001b[0;31m             \u001b[0;32mreturn\u001b[0m \u001b[0mself\u001b[0m\u001b[0;34m.\u001b[0m\u001b[0mread\u001b[0m\u001b[0;34m(\u001b[0m\u001b[0mnbytes\u001b[0m\u001b[0;34m,\u001b[0m \u001b[0mbuffer\u001b[0m\u001b[0;34m)\u001b[0m\u001b[0;34m\u001b[0m\u001b[0;34m\u001b[0m\u001b[0m\n\u001b[0m\u001b[1;32m   1304\u001b[0m         \u001b[0;32melse\u001b[0m\u001b[0;34m:\u001b[0m\u001b[0;34m\u001b[0m\u001b[0;34m\u001b[0m\u001b[0m\n\u001b[1;32m   1305\u001b[0m             \u001b[0;32mreturn\u001b[0m \u001b[0msuper\u001b[0m\u001b[0;34m(\u001b[0m\u001b[0;34m)\u001b[0m\u001b[0;34m.\u001b[0m\u001b[0mrecv_into\u001b[0m\u001b[0;34m(\u001b[0m\u001b[0mbuffer\u001b[0m\u001b[0;34m,\u001b[0m \u001b[0mnbytes\u001b[0m\u001b[0;34m,\u001b[0m \u001b[0mflags\u001b[0m\u001b[0;34m)\u001b[0m\u001b[0;34m\u001b[0m\u001b[0;34m\u001b[0m\u001b[0m\n",
            "\u001b[0;32m/usr/lib/python3.10/ssl.py\u001b[0m in \u001b[0;36mread\u001b[0;34m(self, len, buffer)\u001b[0m\n\u001b[1;32m   1157\u001b[0m         \u001b[0;32mtry\u001b[0m\u001b[0;34m:\u001b[0m\u001b[0;34m\u001b[0m\u001b[0;34m\u001b[0m\u001b[0m\n\u001b[1;32m   1158\u001b[0m             \u001b[0;32mif\u001b[0m \u001b[0mbuffer\u001b[0m \u001b[0;32mis\u001b[0m \u001b[0;32mnot\u001b[0m \u001b[0;32mNone\u001b[0m\u001b[0;34m:\u001b[0m\u001b[0;34m\u001b[0m\u001b[0;34m\u001b[0m\u001b[0m\n\u001b[0;32m-> 1159\u001b[0;31m                 \u001b[0;32mreturn\u001b[0m \u001b[0mself\u001b[0m\u001b[0;34m.\u001b[0m\u001b[0m_sslobj\u001b[0m\u001b[0;34m.\u001b[0m\u001b[0mread\u001b[0m\u001b[0;34m(\u001b[0m\u001b[0mlen\u001b[0m\u001b[0;34m,\u001b[0m \u001b[0mbuffer\u001b[0m\u001b[0;34m)\u001b[0m\u001b[0;34m\u001b[0m\u001b[0;34m\u001b[0m\u001b[0m\n\u001b[0m\u001b[1;32m   1160\u001b[0m             \u001b[0;32melse\u001b[0m\u001b[0;34m:\u001b[0m\u001b[0;34m\u001b[0m\u001b[0;34m\u001b[0m\u001b[0m\n\u001b[1;32m   1161\u001b[0m                 \u001b[0;32mreturn\u001b[0m \u001b[0mself\u001b[0m\u001b[0;34m.\u001b[0m\u001b[0m_sslobj\u001b[0m\u001b[0;34m.\u001b[0m\u001b[0mread\u001b[0m\u001b[0;34m(\u001b[0m\u001b[0mlen\u001b[0m\u001b[0;34m)\u001b[0m\u001b[0;34m\u001b[0m\u001b[0;34m\u001b[0m\u001b[0m\n",
            "\u001b[0;31mKeyboardInterrupt\u001b[0m: "
          ]
        }
      ]
    },
    {
      "cell_type": "code",
      "source": [
        "#Парс МЭК\n",
        "#https://www.standards.ru/document.aspx?control=54&search=&sort=%20ASC&month=9&cid=175263&year=2024&page=0  3л\n",
        "#https://www.standards.ru/document.aspx?control=54&search=&sort=%20ASC&month=8&cid=175263&year=2024&page=0  3л\n",
        "#https://www.standards.ru/document.aspx?control=54&search=&sort=%20ASC&month=7&cid=175263&year=2024&page=0  3л\n",
        "#https://www.standards.ru/document.aspx?control=54&search=&sort=%20ASC&month=6&cid=175263&year=2024&page=0  6л\n",
        "#https://www.standards.ru/document.aspx?control=54&search=&sort=%20ASC&month=5&cid=175263&year=2024&page=0  2л\n",
        "#https://www.standards.ru/document.aspx?control=54&search=&sort=%20ASC&month=4&cid=175263&year=2024&page=0  4л\n",
        "#https://www.standards.ru/document.aspx?control=54&search=&sort=%20ASC&month=3&cid=175263&year=2024&page=0  5л\n",
        "#https://www.standards.ru/document.aspx?control=54&search=&sort=%20ASC&month=2&cid=175263&year=2024&page=0  3л\n",
        "\n",
        "\n",
        "\n",
        "def f_list_aspx(url):\n",
        "    response = requests.get(url)\n",
        "    soup = BeautifulSoup(response.text, 'lxml')\n",
        "    table1 = soup.find_all('td', class_='tx12')\n",
        "    k=2\n",
        "    list_aspx=[]\n",
        "    for i in range(0,len(table1)):\n",
        "        if  k==2:\n",
        "            str1=str(table1[i])\n",
        "            str2=str1[47:59:1]\n",
        "            list_aspx.append(str2)\n",
        "            k=1\n",
        "        else:\n",
        "            k=2\n",
        "    return list_aspx\n",
        "\n",
        "\n",
        "list_sum=[]\n",
        "for i in range(0,3):   #номер последнего листа на сайте\n",
        "    url='https://www.standards.ru/document.aspx?control=54&search=&sort=%20ASC&month=2&cid=175263&year=2024&page='+str(i)\n",
        "    list_sum=list_sum+f_list_aspx(url)\n",
        "    print(list_sum)\n",
        "print(len(list_sum))"
      ],
      "metadata": {
        "colab": {
          "base_uri": "https://localhost:8080/"
        },
        "id": "n8Wn2jhe9-yj",
        "outputId": "30d7178c-ab61-45cd-f9a9-fe784c1c8381"
      },
      "execution_count": 9,
      "outputs": [
        {
          "output_type": "stream",
          "name": "stdout",
          "text": [
            "['7526681.aspx', '7526685.aspx', '7526684.aspx', '7526687.aspx', '7526692.aspx', '7526946.aspx', '7526952.aspx', '7526559.aspx', '7526953.aspx', '7525462.aspx', '7525450.aspx', '7525457.aspx', '7525458.aspx', '7525460.aspx', '7525455.aspx', '7526679.aspx', '7526688.aspx', '7526560.aspx', '7526558.aspx', '7526695.aspx']\n",
            "['7526681.aspx', '7526685.aspx', '7526684.aspx', '7526687.aspx', '7526692.aspx', '7526946.aspx', '7526952.aspx', '7526559.aspx', '7526953.aspx', '7525462.aspx', '7525450.aspx', '7525457.aspx', '7525458.aspx', '7525460.aspx', '7525455.aspx', '7526679.aspx', '7526688.aspx', '7526560.aspx', '7526558.aspx', '7526695.aspx', '7526682.aspx', '7526563.aspx', '7526562.aspx', '7525456.aspx', '7525451.aspx', '7525452.aspx', '7526698.aspx', '7526696.aspx', '7526702.aspx', '7526699.aspx', '7525461.aspx', '7525454.aspx', '7526561.aspx', '7526678.aspx', '7525453.aspx', '7526700.aspx', '7526690.aspx', '7525465.aspx', '7526694.aspx', '7526693.aspx']\n",
            "['7526681.aspx', '7526685.aspx', '7526684.aspx', '7526687.aspx', '7526692.aspx', '7526946.aspx', '7526952.aspx', '7526559.aspx', '7526953.aspx', '7525462.aspx', '7525450.aspx', '7525457.aspx', '7525458.aspx', '7525460.aspx', '7525455.aspx', '7526679.aspx', '7526688.aspx', '7526560.aspx', '7526558.aspx', '7526695.aspx', '7526682.aspx', '7526563.aspx', '7526562.aspx', '7525456.aspx', '7525451.aspx', '7525452.aspx', '7526698.aspx', '7526696.aspx', '7526702.aspx', '7526699.aspx', '7525461.aspx', '7525454.aspx', '7526561.aspx', '7526678.aspx', '7525453.aspx', '7526700.aspx', '7526690.aspx', '7525465.aspx', '7526694.aspx', '7526693.aspx', '7525466.aspx', '7526697.aspx', '7526676.aspx', '7526683.aspx', '7526677.aspx', '7526701.aspx', '7526689.aspx', '7526680.aspx', '7526691.aspx', '7525463.aspx', '7526704.aspx', '7525459.aspx', '7525464.aspx', '7526703.aspx', '7526686.aspx']\n",
            "55\n"
          ]
        }
      ]
    },
    {
      "cell_type": "code",
      "source": [
        "#Парсим страницы МЭК\n",
        "df_sum=pd.DataFrame()\n",
        "df=pd.DataFrame()\n",
        "for name in list_sum:\n",
        "    url='https://www.standards.ru/document/'+name\n",
        "    table1=pd.read_html(url, encoding=\"WINDOWS-1251\")\n",
        "    df=table1[13]\n",
        "    df_sum=pd.concat([df_sum, df.T], ignore_index=True)\n",
        "df_sum.to_excel('/content/table_mek_0224T.xlsx')"
      ],
      "metadata": {
        "id": "Rm9cTrx2-Ym0"
      },
      "execution_count": 10,
      "outputs": []
    }
  ]
}