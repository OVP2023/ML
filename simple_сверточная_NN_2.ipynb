{
  "nbformat": 4,
  "nbformat_minor": 0,
  "metadata": {
    "colab": {
      "provenance": [],
      "authorship_tag": "ABX9TyO0V/RNIqHnN79qpo+JpTkN",
      "include_colab_link": true
    },
    "kernelspec": {
      "name": "python3",
      "display_name": "Python 3"
    },
    "language_info": {
      "name": "python"
    }
  },
  "cells": [
    {
      "cell_type": "markdown",
      "metadata": {
        "id": "view-in-github",
        "colab_type": "text"
      },
      "source": [
        "<a href=\"https://colab.research.google.com/github/OVP2023/ML/blob/main/simple_%D1%81%D0%B2%D0%B5%D1%80%D1%82%D0%BE%D1%87%D0%BD%D0%B0%D1%8F_NN_2.ipynb\" target=\"_parent\"><img src=\"https://colab.research.google.com/assets/colab-badge.svg\" alt=\"Open In Colab\"/></a>"
      ]
    },
    {
      "cell_type": "code",
      "execution_count": 3,
      "metadata": {
        "id": "gG2V6VVynsax"
      },
      "outputs": [],
      "source": [
        "import tensorflow as tf\n",
        "from tqdm import tqdm_notebook"
      ]
    },
    {
      "cell_type": "markdown",
      "source": [
        "Классификация изображений на датасэте данных CIFAR10 из Keras"
      ],
      "metadata": {
        "id": "wtfJvf-2qxXW"
      }
    },
    {
      "cell_type": "code",
      "source": [
        "import numpy as np\n",
        "from keras.datasets import cifar10\n",
        "from sklearn.model_selection import train_test_split\n",
        "\n",
        "(X_train, y_train), (X_test, y_test) = cifar10.load_data()\n",
        "X_train, X_val, y_train, y_val = train_test_split(X_train, y_train, test_size=10**4, random_state=42)\n",
        "\n",
        "class_names = np.array(['airplane','automobile ','bird ','cat ','deer ','dog ','frog ','horse ','ship ','truck'])\n",
        "\n",
        "print (X_train.shape,y_train.shape)"
      ],
      "metadata": {
        "colab": {
          "base_uri": "https://localhost:8080/"
        },
        "id": "rCTqF2rHnvSY",
        "outputId": "1d550de7-a1bf-47c5-df84-d0ad851989d5"
      },
      "execution_count": 4,
      "outputs": [
        {
          "output_type": "stream",
          "name": "stdout",
          "text": [
            "Downloading data from https://www.cs.toronto.edu/~kriz/cifar-10-python.tar.gz\n",
            "\u001b[1m170498071/170498071\u001b[0m \u001b[32m━━━━━━━━━━━━━━━━━━━━\u001b[0m\u001b[37m\u001b[0m \u001b[1m4s\u001b[0m 0us/step\n",
            "(40000, 32, 32, 3) (40000, 1)\n"
          ]
        }
      ]
    },
    {
      "cell_type": "code",
      "source": [
        "X_train = X_train / 255\n",
        "X_val = X_val / 255\n",
        "X_test = X_test / 255"
      ],
      "metadata": {
        "id": "wt5kG7zynyev"
      },
      "execution_count": 5,
      "outputs": []
    },
    {
      "cell_type": "markdown",
      "source": [
        "\n",
        "Реализуйте небольшую свёрточную сеть. Совсем небольшую:\n",
        "\n",
        "    Входной слой\n",
        "    Свёртка 3x3 с 10 фильтрами\n",
        "    Нелинейность на ваш вкус\n",
        "    Max-pooling 2x2\n",
        "    Вытягиваем оставшееся в вектор (Flatten)\n",
        "    Полносвязный слой на 100 нейронов\n",
        "    Нелинейность на ваш вкус\n",
        "    Выходной полносвязный слой с softmax\n",
        "\n",
        "Обучите её так же, как и предыдущую сеть. Если всё хорошо, у вас получится accuracy не меньше 50%."
      ],
      "metadata": {
        "id": "xPusaQfEoH5s"
      }
    },
    {
      "cell_type": "code",
      "source": [
        "new_model = tf.keras.models.Sequential([\n",
        "        tf.keras.Input(shape=X_train.shape[1:]),\n",
        "        tf.keras.layers.Conv2D(filters=10, kernel_size=(3, 3),padding='same',activation='relu'),\n",
        "        tf.keras.layers.MaxPooling2D(pool_size=(2, 2)),\n",
        "        tf.keras.layers.Flatten(),\n",
        "        tf.keras.layers.Dense(100, activation='relu'),\n",
        "        tf.keras.layers.Dense(10,activation='softmax')\n",
        "])"
      ],
      "metadata": {
        "id": "urU3RphTn2DF"
      },
      "execution_count": 6,
      "outputs": []
    },
    {
      "cell_type": "code",
      "source": [
        "#callbacks  используются для получения метрик обучения и влияния на ход обучения\n",
        "new_callbacks = [tf.keras.callbacks.ModelCheckpoint(filepath='model.{epoch:02d}-{val_loss:.2f}.keras',monitor='val_accuracy',save_best_only=True),   # Сохраняется ПРЕДпоследняя лучшая модель с мониторингом по val_accuracy\n",
        "             tf.keras.callbacks.CSVLogger('training.log'),   #записывает данные обучения по эпохам в CSV файл\n",
        "             tf.keras.callbacks.EarlyStopping(patience=4)]  #прекращает обучение если patience=7 эпох без улучшения (val_accuracy)"
      ],
      "metadata": {
        "id": "uXPULQ6PoMoy"
      },
      "execution_count": 7,
      "outputs": []
    },
    {
      "cell_type": "code",
      "source": [
        "new_model.compile(\n",
        "    optimizer = tf.keras.optimizers.RMSprop(),\n",
        "    loss =  'sparse_categorical_crossentropy',                                      #keras.losses.SparseCategoricalCrossentropy(from_logits = False),\n",
        "    metrics = ['sparse_categorical_accuracy']\n",
        "    )\n",
        "new_model.fit(X_train, y_train, batch_size=16, epochs=4, callbacks=new_callbacks, validation_split=0.2)"
      ],
      "metadata": {
        "colab": {
          "base_uri": "https://localhost:8080/"
        },
        "id": "hR15TQU7pQZo",
        "outputId": "2f0afdd0-2b7a-4a30-d34a-d6c78441d59a"
      },
      "execution_count": 11,
      "outputs": [
        {
          "output_type": "stream",
          "name": "stdout",
          "text": [
            "Epoch 1/4\n",
            "\u001b[1m2000/2000\u001b[0m \u001b[32m━━━━━━━━━━━━━━━━━━━━\u001b[0m\u001b[37m\u001b[0m \u001b[1m24s\u001b[0m 12ms/step - loss: 1.8830 - sparse_categorical_accuracy: 0.3286 - val_loss: 1.4694 - val_sparse_categorical_accuracy: 0.4756\n",
            "Epoch 2/4\n",
            "\u001b[1m  14/2000\u001b[0m \u001b[37m━━━━━━━━━━━━━━━━━━━━\u001b[0m \u001b[1m16s\u001b[0m 8ms/step - loss: 1.4254 - sparse_categorical_accuracy: 0.4862"
          ]
        },
        {
          "output_type": "stream",
          "name": "stderr",
          "text": [
            "/usr/local/lib/python3.10/dist-packages/keras/src/callbacks/model_checkpoint.py:206: UserWarning: Can save best model only with val_accuracy available, skipping.\n",
            "  self._save_model(epoch=epoch, batch=None, logs=logs)\n"
          ]
        },
        {
          "output_type": "stream",
          "name": "stdout",
          "text": [
            "\u001b[1m2000/2000\u001b[0m \u001b[32m━━━━━━━━━━━━━━━━━━━━\u001b[0m\u001b[37m\u001b[0m \u001b[1m22s\u001b[0m 11ms/step - loss: 1.3895 - sparse_categorical_accuracy: 0.5067 - val_loss: 1.3583 - val_sparse_categorical_accuracy: 0.5228\n",
            "Epoch 3/4\n",
            "\u001b[1m2000/2000\u001b[0m \u001b[32m━━━━━━━━━━━━━━━━━━━━\u001b[0m\u001b[37m\u001b[0m \u001b[1m42s\u001b[0m 11ms/step - loss: 1.2321 - sparse_categorical_accuracy: 0.5676 - val_loss: 1.2435 - val_sparse_categorical_accuracy: 0.5573\n",
            "Epoch 4/4\n",
            "\u001b[1m2000/2000\u001b[0m \u001b[32m━━━━━━━━━━━━━━━━━━━━\u001b[0m\u001b[37m\u001b[0m \u001b[1m22s\u001b[0m 11ms/step - loss: 1.1339 - sparse_categorical_accuracy: 0.6068 - val_loss: 1.2854 - val_sparse_categorical_accuracy: 0.5552\n"
          ]
        },
        {
          "output_type": "execute_result",
          "data": {
            "text/plain": [
              "<keras.src.callbacks.history.History at 0x7de6f9484e20>"
            ]
          },
          "metadata": {},
          "execution_count": 11
        }
      ]
    },
    {
      "cell_type": "code",
      "source": [
        "from sklearn.metrics import accuracy_score\n",
        "\n",
        "predict_x = new_model.predict(X_test)\n",
        "classes_x = np.argmax(predict_x,axis=1)\n",
        "\n",
        "test_acc = accuracy_score(y_test, classes_x)\n",
        "print(\"\\n Test_acc =\", test_acc)\n",
        "assert test_acc > 0.50, \"Not good enough. Back to the drawing board :)\"\n",
        "print(\" Not bad!\")"
      ],
      "metadata": {
        "colab": {
          "base_uri": "https://localhost:8080/"
        },
        "id": "P7nE1hU_qMtz",
        "outputId": "043602f7-f401-457d-9298-cff763341284"
      },
      "execution_count": 12,
      "outputs": [
        {
          "output_type": "stream",
          "name": "stdout",
          "text": [
            "\u001b[1m313/313\u001b[0m \u001b[32m━━━━━━━━━━━━━━━━━━━━\u001b[0m\u001b[37m\u001b[0m \u001b[1m2s\u001b[0m 6ms/step\n",
            "\n",
            " Test_acc = 0.5594\n",
            " Not bad!\n"
          ]
        }
      ]
    }
  ]
}