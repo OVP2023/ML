{
  "nbformat": 4,
  "nbformat_minor": 0,
  "metadata": {
    "colab": {
      "provenance": [],
      "authorship_tag": "ABX9TyM98/mp0t5vzPqpjEzT2GZF",
      "include_colab_link": true
    },
    "kernelspec": {
      "name": "python3",
      "display_name": "Python 3"
    },
    "language_info": {
      "name": "python"
    }
  },
  "cells": [
    {
      "cell_type": "markdown",
      "metadata": {
        "id": "view-in-github",
        "colab_type": "text"
      },
      "source": [
        "<a href=\"https://colab.research.google.com/github/OVP2023/ML/blob/main/%D0%94%D0%B5%D1%80%D0%B5%D0%B2%D0%BE_%D1%80%D0%B5%D1%88%D0%B5%D0%BD%D0%B8%D0%B9_%D0%B4%D0%B7.ipynb\" target=\"_parent\"><img src=\"https://colab.research.google.com/assets/colab-badge.svg\" alt=\"Open In Colab\"/></a>"
      ]
    },
    {
      "cell_type": "markdown",
      "source": [
        "Обучите дерево решений на обучающем множестве.\n",
        "a. Повторите п. 5 для полученной модели.\n",
        "b. Визуализируйте часть дерева решений. Убедитесь, что график получился читабельным. Посмотрите примеры визуализации по ссылке.\n",
        "Оптимизируйте глубину дерева (max_depth). *Оптимизируйте ещё один параметр модели на выбор.\n",
        "a. Повторите п. 5 для полученной модели.\n",
        "\n",
        "Сформулируйте выводы по проделанной работе.\n",
        "a. Сравните точность двух моделей.\n",
        "b. Напишите свое мнение, для каких задач предпочтительнее использовать обученные в работе модели? Какие у них есть плюсы и минусы?\n",
        "Для получения зачета по этому домашнему заданию, должно быть как минимум реализовано обучение двух моделей, выведена их точность, оптимизирован один параметр дерева решений."
      ],
      "metadata": {
        "id": "UrIMsFQvK-ra"
      }
    },
    {
      "cell_type": "code",
      "source": [
        "import pandas as pd\n",
        "import numpy as np\n",
        "\n",
        "import seaborn as sns\n",
        "from matplotlib import pyplot as plt\n",
        "\n",
        "from sklearn.preprocessing import StandardScaler\n",
        "from sklearn.linear_model import LinearRegression\n",
        "from sklearn.model_selection import train_test_split\n",
        "import sklearn.metrics as metrics\n",
        "\n",
        "from sklearn.datasets import fetch_california_housing"
      ],
      "metadata": {
        "id": "56kJ6tPXK--q"
      },
      "execution_count": 1,
      "outputs": []
    },
    {
      "cell_type": "code",
      "source": [
        "#Получите данные и загрузите их в рабочую среду\n",
        "housing = fetch_california_housing()"
      ],
      "metadata": {
        "id": "vLxn_xHjLjc2"
      },
      "execution_count": 2,
      "outputs": []
    },
    {
      "cell_type": "code",
      "source": [
        "#Исходные признаки\n",
        "X=pd.DataFrame(housing.data)\n",
        "X.rename(columns={0:'MedInc_средний_доход',1:'HouseAge_средний_возраст_дома ',2:'AveRooms_среднее_количество_комнат',3:'AveBedrms_среднее_количество_спален' ,4:'Population_население',5:'AveOccup_среднее_количество_жильцов',6:'Latitude_широта',7:'Longitude_долгота'}, inplace=True)\n",
        "X.info()"
      ],
      "metadata": {
        "colab": {
          "base_uri": "https://localhost:8080/"
        },
        "id": "bvDSBSEQLl7q",
        "outputId": "cd2d93b3-65cc-4a8c-999b-a23d7d6ea5bb"
      },
      "execution_count": 3,
      "outputs": [
        {
          "output_type": "stream",
          "name": "stdout",
          "text": [
            "<class 'pandas.core.frame.DataFrame'>\n",
            "RangeIndex: 20640 entries, 0 to 20639\n",
            "Data columns (total 8 columns):\n",
            " #   Column                               Non-Null Count  Dtype  \n",
            "---  ------                               --------------  -----  \n",
            " 0   MedInc_средний_доход                 20640 non-null  float64\n",
            " 1   HouseAge_средний_возраст_дома        20640 non-null  float64\n",
            " 2   AveRooms_среднее_количество_комнат   20640 non-null  float64\n",
            " 3   AveBedrms_среднее_количество_спален  20640 non-null  float64\n",
            " 4   Population_население                 20640 non-null  float64\n",
            " 5   AveOccup_среднее_количество_жильцов  20640 non-null  float64\n",
            " 6   Latitude_широта                      20640 non-null  float64\n",
            " 7   Longitude_долгота                    20640 non-null  float64\n",
            "dtypes: float64(8)\n",
            "memory usage: 1.3 MB\n"
          ]
        }
      ]
    },
    {
      "cell_type": "code",
      "source": [
        "#целевая переменная - медианная стоимость дома, в сотнях тыс. дол.\n",
        "y=pd.DataFrame(housing.target)\n",
        "y.rename(columns={0:'Price,K$'},inplace=True)\n",
        "y.info()"
      ],
      "metadata": {
        "colab": {
          "base_uri": "https://localhost:8080/"
        },
        "id": "B3eMnCoWMPtE",
        "outputId": "0a4e4aff-a4d2-42b2-b32a-5161bd235758"
      },
      "execution_count": 6,
      "outputs": [
        {
          "output_type": "stream",
          "name": "stdout",
          "text": [
            "<class 'pandas.core.frame.DataFrame'>\n",
            "RangeIndex: 20640 entries, 0 to 20639\n",
            "Data columns (total 1 columns):\n",
            " #   Column    Non-Null Count  Dtype  \n",
            "---  ------    --------------  -----  \n",
            " 0   Price,K$  20640 non-null  float64\n",
            "dtypes: float64(1)\n",
            "memory usage: 161.4 KB\n"
          ]
        }
      ]
    },
    {
      "cell_type": "code",
      "source": [
        "#Проведите первичный анализ. a.Проверьте данные на пропуски. Удалите в случае обнаружения. b.*Нормализуйте один из признаков."
      ],
      "metadata": {
        "id": "P4IzB9acbGx5"
      },
      "execution_count": null,
      "outputs": []
    },
    {
      "cell_type": "code",
      "source": [
        "#Разделите выборку на обучающее и тестовое подмножества. 80% данных оставить на обучающее множество, 20% - на тестовое.\n",
        "#Обучите модель регрессии на обучающем множестве. Для тестового множества предскажите целевую переменную и сравните с истинным значением,\n",
        "#посчитав точность предсказания модели. Для этого используйте встроенную функцию score.\n",
        "\n",
        "\n",
        "model = LinearRegression()\n",
        "X_train, X_test, y_train, y_test = train_test_split(X, y, test_size=0.2, random_state=0)\n",
        "model.fit(X_train, y_train)\n",
        "print(round(model.score(X_test,y_test),3))\n",
        "\n"
      ],
      "metadata": {
        "colab": {
          "base_uri": "https://localhost:8080/"
        },
        "id": "4PydU7oNZ6hy",
        "outputId": "32d0331a-393e-4656-b7d0-18d8ea4eac08"
      },
      "execution_count": 9,
      "outputs": [
        {
          "output_type": "stream",
          "name": "stdout",
          "text": [
            "0.594\n"
          ]
        }
      ]
    },
    {
      "cell_type": "code",
      "source": [
        "#Модель дерево решений регрессия\n",
        "from sklearn.tree import DecisionTreeRegressor\n",
        "\n",
        "#Оптимизируйте глубину дерева (max_depth) большая метрика получилась при max_depth=9\n",
        "#Оптимизируем min_samples_leaf, min_samples_leaf=10\n",
        "clf = DecisionTreeRegressor(min_samples_leaf=10, max_depth=9, random_state=10)\n",
        "clf.fit(X_train, y_train)\n",
        "\n",
        "print(round(clf.score(X_test,y_test),3))\n"
      ],
      "metadata": {
        "colab": {
          "base_uri": "https://localhost:8080/"
        },
        "id": "R16JbDc-eAsJ",
        "outputId": "aef7680c-789a-4f53-8746-238081a1695f"
      },
      "execution_count": 34,
      "outputs": [
        {
          "output_type": "stream",
          "name": "stdout",
          "text": [
            "0.695\n"
          ]
        }
      ]
    }
  ]
}