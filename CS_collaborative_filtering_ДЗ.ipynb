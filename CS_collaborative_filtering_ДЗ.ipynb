{
  "nbformat": 4,
  "nbformat_minor": 0,
  "metadata": {
    "colab": {
      "provenance": [],
      "authorship_tag": "ABX9TyO7gP/kBTwKH2rBhQHl1Psw",
      "include_colab_link": true
    },
    "kernelspec": {
      "name": "python3",
      "display_name": "Python 3"
    },
    "language_info": {
      "name": "python"
    }
  },
  "cells": [
    {
      "cell_type": "markdown",
      "metadata": {
        "id": "view-in-github",
        "colab_type": "text"
      },
      "source": [
        "<a href=\"https://colab.research.google.com/github/OVP2023/ML/blob/main/CS_collaborative_filtering_%D0%94%D0%97.ipynb\" target=\"_parent\"><img src=\"https://colab.research.google.com/assets/colab-badge.svg\" alt=\"Open In Colab\"/></a>"
      ]
    },
    {
      "cell_type": "markdown",
      "source": [
        "Пакет SURPRISE:\n",
        "используйте данные MovieLens 1M,можно использовать любые модели из пакета,\n",
        "получите RMSE на тестовом сете 0,87 и ниже.\n",
        "Комментарий преподавателя:\n",
        "В домашнем задании на датасет 1М может не хватить RAM. Можно сделать на 100K. Качество RMSE предлагаю считать на основе Cross-validation (5 фолдов), а не на отложенном датасете."
      ],
      "metadata": {
        "id": "vQzNY1OWZMNd"
      }
    },
    {
      "cell_type": "code",
      "source": [
        "!pip install surprise"
      ],
      "metadata": {
        "colab": {
          "base_uri": "https://localhost:8080/"
        },
        "id": "VSvuXimGYXOG",
        "outputId": "c5b172db-944b-4ff8-a319-8a52e2232156"
      },
      "execution_count": 2,
      "outputs": [
        {
          "output_type": "stream",
          "name": "stdout",
          "text": [
            "Collecting surprise\n",
            "  Downloading surprise-0.1-py2.py3-none-any.whl.metadata (327 bytes)\n",
            "Collecting scikit-surprise (from surprise)\n",
            "  Downloading scikit_surprise-1.1.4.tar.gz (154 kB)\n",
            "\u001b[2K     \u001b[90m━━━━━━━━━━━━━━━━━━━━━━━━━━━━━━━━━━━━━━━━\u001b[0m \u001b[32m154.4/154.4 kB\u001b[0m \u001b[31m3.1 MB/s\u001b[0m eta \u001b[36m0:00:00\u001b[0m\n",
            "\u001b[?25h  Installing build dependencies ... \u001b[?25l\u001b[?25hdone\n",
            "  Getting requirements to build wheel ... \u001b[?25l\u001b[?25hdone\n",
            "  Preparing metadata (pyproject.toml) ... \u001b[?25l\u001b[?25hdone\n",
            "Requirement already satisfied: joblib>=1.2.0 in /usr/local/lib/python3.10/dist-packages (from scikit-surprise->surprise) (1.4.2)\n",
            "Requirement already satisfied: numpy>=1.19.5 in /usr/local/lib/python3.10/dist-packages (from scikit-surprise->surprise) (1.26.4)\n",
            "Requirement already satisfied: scipy>=1.6.0 in /usr/local/lib/python3.10/dist-packages (from scikit-surprise->surprise) (1.13.1)\n",
            "Downloading surprise-0.1-py2.py3-none-any.whl (1.8 kB)\n",
            "Building wheels for collected packages: scikit-surprise\n",
            "  Building wheel for scikit-surprise (pyproject.toml) ... \u001b[?25l\u001b[?25hdone\n",
            "  Created wheel for scikit-surprise: filename=scikit_surprise-1.1.4-cp310-cp310-linux_x86_64.whl size=2357279 sha256=0eeb84a96bb56ec8ff5e683abb2707746fecac94ffea57c34ebc0ab570122aef\n",
            "  Stored in directory: /root/.cache/pip/wheels/4b/3f/df/6acbf0a40397d9bf3ff97f582cc22fb9ce66adde75bc71fd54\n",
            "Successfully built scikit-surprise\n",
            "Installing collected packages: scikit-surprise, surprise\n",
            "Successfully installed scikit-surprise-1.1.4 surprise-0.1\n"
          ]
        }
      ]
    },
    {
      "cell_type": "code",
      "source": [
        "from surprise import SVD\n",
        "from surprise import Dataset\n",
        "from surprise.model_selection import train_test_split\n",
        "from surprise import accuracy\n",
        "from surprise.model_selection import cross_validate\n"
      ],
      "metadata": {
        "id": "VwDJsR4ZYPss"
      },
      "execution_count": 22,
      "outputs": []
    },
    {
      "cell_type": "code",
      "source": [
        "# Загружаем movielens-1m dataset.\n",
        "data = Dataset.load_builtin('ml-1m')    #ml-100k"
      ],
      "metadata": {
        "id": "HYQv1T0vZxIL"
      },
      "execution_count": 23,
      "outputs": []
    },
    {
      "cell_type": "code",
      "source": [
        "# разбиение данных на обучающую и тестовую выборки\n",
        "trainset, testset = train_test_split(data, test_size = 0.1)\n",
        "\n",
        "# создание экземпляра класса SVD\n",
        "model = SVD()\n",
        "\n",
        "# обучение модели на обучающей выборке\n",
        "model.fit(trainset)\n",
        "\n",
        "# предсказание рейтингов на тестовой выборке\n",
        "predictions = model.test(testset)\n",
        "\n",
        "# оценка качества модели\n",
        "print('RMSE:', accuracy.rmse(predictions))"
      ],
      "metadata": {
        "colab": {
          "base_uri": "https://localhost:8080/"
        },
        "id": "PJuT0W9PhfqY",
        "outputId": "d28e8fa1-a51b-4e86-980d-dd91078c3d8c"
      },
      "execution_count": 17,
      "outputs": [
        {
          "output_type": "stream",
          "name": "stdout",
          "text": [
            "RMSE: 0.8648\n",
            "RMSE: 0.8647990744422037\n"
          ]
        }
      ]
    },
    {
      "cell_type": "code",
      "source": [
        "# Качество RMSE считаем на основе Cross-validation (5 фолдов)\n",
        "cross_validate(SVD(), data, measures=['RMSE'], cv=5, verbose=True)"
      ],
      "metadata": {
        "colab": {
          "base_uri": "https://localhost:8080/"
        },
        "id": "PKnaxKAUjiM8",
        "outputId": "1828bba9-62ca-4f8a-b072-6dc666a77e71"
      },
      "execution_count": 24,
      "outputs": [
        {
          "output_type": "stream",
          "name": "stdout",
          "text": [
            "Evaluating RMSE of algorithm SVD on 5 split(s).\n",
            "\n",
            "                  Fold 1  Fold 2  Fold 3  Fold 4  Fold 5  Mean    Std     \n",
            "RMSE (testset)    0.8723  0.8742  0.8753  0.8727  0.8734  0.8736  0.0011  \n",
            "Fit time          15.92   17.02   16.11   16.05   17.10   16.44   0.51    \n",
            "Test time         2.48    2.47    2.79    2.57    2.58    2.58    0.11    \n"
          ]
        },
        {
          "output_type": "execute_result",
          "data": {
            "text/plain": [
              "{'test_rmse': array([0.87227616, 0.87418454, 0.87529023, 0.87265676, 0.87335291]),\n",
              " 'fit_time': (15.920204162597656,\n",
              "  17.024245977401733,\n",
              "  16.10663080215454,\n",
              "  16.04967999458313,\n",
              "  17.10022211074829),\n",
              " 'test_time': (2.4837605953216553,\n",
              "  2.466308355331421,\n",
              "  2.7859346866607666,\n",
              "  2.568448543548584,\n",
              "  2.583622694015503)}"
            ]
          },
          "metadata": {},
          "execution_count": 24
        }
      ]
    }
  ]
}