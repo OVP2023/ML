{
  "nbformat": 4,
  "nbformat_minor": 0,
  "metadata": {
    "colab": {
      "provenance": [],
      "authorship_tag": "ABX9TyPk4P9/070X12AS5Ypu+SxI",
      "include_colab_link": true
    },
    "kernelspec": {
      "name": "python3",
      "display_name": "Python 3"
    },
    "language_info": {
      "name": "python"
    }
  },
  "cells": [
    {
      "cell_type": "markdown",
      "metadata": {
        "id": "view-in-github",
        "colab_type": "text"
      },
      "source": [
        "<a href=\"https://colab.research.google.com/github/OVP2023/ML/blob/main/CS_collaborative_filtering_%D0%94%D0%97.ipynb\" target=\"_parent\"><img src=\"https://colab.research.google.com/assets/colab-badge.svg\" alt=\"Open In Colab\"/></a>"
      ]
    },
    {
      "cell_type": "markdown",
      "source": [
        "Пакет SURPRISE:\n",
        "\n",
        "    используйте данные MovieLens 1M,\n",
        "    можно использовать любые модели из пакета,\n",
        "    получите RMSE на тестовом сете 0,87 и ниже.\n",
        "Комментарий преподавателя:\n",
        "В домашнем задании на датасет 1М может не хватить RAM. Можно сделать на 100K. Качество RMSE предлагаю считать на основе Cross-validation (5 фолдов), а не на отложенном датасете.\n",
        "\n",
        "\n",
        "\n",
        "    Загружаем данные и собираем датасет(фильм-рейтинг)\n",
        "    Используем средства SURPRISE для перевода pandas датафрейма в нужный формат\n",
        "    Отбираем алгоритм/алгоритмы из SURPRISE, которые будем обучать\n",
        "    В процессе обучения выполняем проверку на 5 фолдах, оцениваем RMSE\n",
        "    Отбираем лучший алгоритм, при необходимости тьюним его"
      ],
      "metadata": {
        "id": "vQzNY1OWZMNd"
      }
    },
    {
      "cell_type": "code",
      "source": [
        "!pip install surprise"
      ],
      "metadata": {
        "colab": {
          "base_uri": "https://localhost:8080/"
        },
        "id": "VSvuXimGYXOG",
        "outputId": "c5b172db-944b-4ff8-a319-8a52e2232156"
      },
      "execution_count": 2,
      "outputs": [
        {
          "output_type": "stream",
          "name": "stdout",
          "text": [
            "Collecting surprise\n",
            "  Downloading surprise-0.1-py2.py3-none-any.whl.metadata (327 bytes)\n",
            "Collecting scikit-surprise (from surprise)\n",
            "  Downloading scikit_surprise-1.1.4.tar.gz (154 kB)\n",
            "\u001b[2K     \u001b[90m━━━━━━━━━━━━━━━━━━━━━━━━━━━━━━━━━━━━━━━━\u001b[0m \u001b[32m154.4/154.4 kB\u001b[0m \u001b[31m3.1 MB/s\u001b[0m eta \u001b[36m0:00:00\u001b[0m\n",
            "\u001b[?25h  Installing build dependencies ... \u001b[?25l\u001b[?25hdone\n",
            "  Getting requirements to build wheel ... \u001b[?25l\u001b[?25hdone\n",
            "  Preparing metadata (pyproject.toml) ... \u001b[?25l\u001b[?25hdone\n",
            "Requirement already satisfied: joblib>=1.2.0 in /usr/local/lib/python3.10/dist-packages (from scikit-surprise->surprise) (1.4.2)\n",
            "Requirement already satisfied: numpy>=1.19.5 in /usr/local/lib/python3.10/dist-packages (from scikit-surprise->surprise) (1.26.4)\n",
            "Requirement already satisfied: scipy>=1.6.0 in /usr/local/lib/python3.10/dist-packages (from scikit-surprise->surprise) (1.13.1)\n",
            "Downloading surprise-0.1-py2.py3-none-any.whl (1.8 kB)\n",
            "Building wheels for collected packages: scikit-surprise\n",
            "  Building wheel for scikit-surprise (pyproject.toml) ... \u001b[?25l\u001b[?25hdone\n",
            "  Created wheel for scikit-surprise: filename=scikit_surprise-1.1.4-cp310-cp310-linux_x86_64.whl size=2357279 sha256=0eeb84a96bb56ec8ff5e683abb2707746fecac94ffea57c34ebc0ab570122aef\n",
            "  Stored in directory: /root/.cache/pip/wheels/4b/3f/df/6acbf0a40397d9bf3ff97f582cc22fb9ce66adde75bc71fd54\n",
            "Successfully built scikit-surprise\n",
            "Installing collected packages: scikit-surprise, surprise\n",
            "Successfully installed scikit-surprise-1.1.4 surprise-0.1\n"
          ]
        }
      ]
    },
    {
      "cell_type": "code",
      "source": [
        "from surprise import KNNWithMeans, KNNBasic\n",
        "from surprise import Dataset\n",
        "from surprise import accuracy\n",
        "from surprise import Reader\n",
        "from surprise.model_selection import train_test_split\n",
        "\n",
        "import pandas as pd"
      ],
      "metadata": {
        "id": "VwDJsR4ZYPss"
      },
      "execution_count": 3,
      "outputs": []
    },
    {
      "cell_type": "code",
      "source": [
        "# Load the movielens-100k dataset (download it if needed).\n",
        "data = Dataset.load_builtin('ml-100k')"
      ],
      "metadata": {
        "colab": {
          "base_uri": "https://localhost:8080/"
        },
        "id": "HYQv1T0vZxIL",
        "outputId": "85effa1f-b680-497f-9bca-8fbe91fc4380"
      },
      "execution_count": 4,
      "outputs": [
        {
          "output_type": "stream",
          "name": "stdout",
          "text": [
            "Dataset ml-100k could not be found. Do you want to download it? [Y/n] y\n",
            "Trying to download dataset from https://files.grouplens.org/datasets/movielens/ml-100k.zip...\n",
            "Done! Dataset ml-100k has been saved to /root/.surprise_data/ml-100k\n"
          ]
        }
      ]
    },
    {
      "cell_type": "code",
      "source": [
        "from surprise import SVD\n",
        "from surprise.model_selection import cross_validate\n",
        "\n",
        "# Use the famous SVD algorithm.\n",
        "algo = SVD()"
      ],
      "metadata": {
        "id": "o__grK3UaMLK"
      },
      "execution_count": 11,
      "outputs": []
    },
    {
      "cell_type": "code",
      "source": [
        "# Run 5-fold cross-validation and print results.\n",
        "cross_validate(algo, data, measures=['RMSE', 'MAE'], cv=5, verbose=True)"
      ],
      "metadata": {
        "colab": {
          "base_uri": "https://localhost:8080/"
        },
        "id": "M9lpRzqgaW1G",
        "outputId": "d6f5ef8a-43c7-4c80-dfe9-831f79164ea6"
      },
      "execution_count": 12,
      "outputs": [
        {
          "output_type": "stream",
          "name": "stdout",
          "text": [
            "Evaluating RMSE, MAE of algorithm SVD on 5 split(s).\n",
            "\n",
            "                  Fold 1  Fold 2  Fold 3  Fold 4  Fold 5  Mean    Std     \n",
            "RMSE (testset)    0.9372  0.9311  0.9453  0.9449  0.9293  0.9375  0.0067  \n",
            "MAE (testset)     0.7366  0.7345  0.7475  0.7448  0.7319  0.7391  0.0060  \n",
            "Fit time          1.42    2.04    1.66    1.40    1.42    1.59    0.24    \n",
            "Test time         0.15    0.20    0.12    0.21    0.12    0.16    0.04    \n"
          ]
        },
        {
          "output_type": "execute_result",
          "data": {
            "text/plain": [
              "{'test_rmse': array([0.93720761, 0.93110809, 0.94526016, 0.94487721, 0.92926138]),\n",
              " 'test_mae': array([0.73662762, 0.73445013, 0.74754977, 0.74476584, 0.73193184]),\n",
              " 'fit_time': (1.4164183139801025,\n",
              "  2.038996458053589,\n",
              "  1.6592004299163818,\n",
              "  1.40089750289917,\n",
              "  1.424577236175537),\n",
              " 'test_time': (0.15211796760559082,\n",
              "  0.19703197479248047,\n",
              "  0.11702418327331543,\n",
              "  0.20796847343444824,\n",
              "  0.12320923805236816)}"
            ]
          },
          "metadata": {},
          "execution_count": 12
        }
      ]
    },
    {
      "cell_type": "code",
      "source": [
        "data"
      ],
      "metadata": {
        "colab": {
          "base_uri": "https://localhost:8080/"
        },
        "id": "1vi8qGt6Z1o5",
        "outputId": "02ab891f-0b4c-4ee0-b6cd-7b8950fd0199"
      },
      "execution_count": 7,
      "outputs": [
        {
          "output_type": "execute_result",
          "data": {
            "text/plain": [
              "<surprise.dataset.DatasetAutoFolds at 0x7ad6b2cfa7d0>"
            ]
          },
          "metadata": {},
          "execution_count": 7
        }
      ]
    }
  ]
}