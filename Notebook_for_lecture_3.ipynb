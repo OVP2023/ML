{
  "nbformat": 4,
  "nbformat_minor": 0,
  "metadata": {
    "kernelspec": {
      "display_name": "Python 3",
      "language": "python",
      "name": "python3"
    },
    "language_info": {
      "codemirror_mode": {
        "name": "ipython",
        "version": 3
      },
      "file_extension": ".py",
      "mimetype": "text/x-python",
      "name": "python",
      "nbconvert_exporter": "python",
      "pygments_lexer": "ipython3",
      "version": "3.7.3"
    },
    "colab": {
      "provenance": [],
      "include_colab_link": true
    },
    "accelerator": "GPU"
  },
  "cells": [
    {
      "cell_type": "markdown",
      "metadata": {
        "id": "view-in-github",
        "colab_type": "text"
      },
      "source": [
        "<a href=\"https://colab.research.google.com/github/OVP2023/ML/blob/main/Notebook_for_lecture_3.ipynb\" target=\"_parent\"><img src=\"https://colab.research.google.com/assets/colab-badge.svg\" alt=\"Open In Colab\"/></a>"
      ]
    },
    {
      "cell_type": "markdown",
      "metadata": {
        "id": "wam9bqBX-PT4"
      },
      "source": [
        "# Классификация MNIST сверточной сетью\n",
        "\n",
        "https://www.kaggle.com/c/digit-recognizer"
      ]
    },
    {
      "cell_type": "code",
      "metadata": {
        "id": "7GXdhb_G-vkc",
        "colab": {
          "base_uri": "https://localhost:8080/"
        },
        "outputId": "835a8cbb-b35a-4db2-e248-fc17b0efbcda"
      },
      "source": [
        "!wget https://www.dropbox.com/s/9wrovo5cugw8xdu/digit-recognizer.zip\n",
        "!unzip digit-recognizer.zip"
      ],
      "execution_count": 2,
      "outputs": [
        {
          "output_type": "stream",
          "name": "stdout",
          "text": [
            "--2024-11-12 15:49:33--  https://www.dropbox.com/s/9wrovo5cugw8xdu/digit-recognizer.zip\n",
            "Resolving www.dropbox.com (www.dropbox.com)... 162.125.2.18, 2620:100:6017:18::a27d:212\n",
            "Connecting to www.dropbox.com (www.dropbox.com)|162.125.2.18|:443... connected.\n",
            "HTTP request sent, awaiting response... 302 Found\n",
            "Location: https://www.dropbox.com/scl/fi/4pm2syyzo5pp5hfzasl6w/digit-recognizer.zip?rlkey=807uzz4o0r775kmt2dmyydjfr [following]\n",
            "--2024-11-12 15:49:33--  https://www.dropbox.com/scl/fi/4pm2syyzo5pp5hfzasl6w/digit-recognizer.zip?rlkey=807uzz4o0r775kmt2dmyydjfr\n",
            "Reusing existing connection to www.dropbox.com:443.\n",
            "HTTP request sent, awaiting response... 302 Found\n",
            "Location: https://uc4d5ae3515701f173c22e681be2.dl.dropboxusercontent.com/cd/0/inline/CePPrgmwEIEyh3XGu-FeAnAaj6SojWuYkWxfEyQwzGdsa1vySHJP0eX22de2Nl4XvuyXhTsdEN_nXqqjgulZ-DYF5vCkPmMDjUz-U9utqcT0nKPXSZl7vgYCrR0TA-rdPOdziiDgimPffZXe0UDauPi2/file# [following]\n",
            "--2024-11-12 15:49:34--  https://uc4d5ae3515701f173c22e681be2.dl.dropboxusercontent.com/cd/0/inline/CePPrgmwEIEyh3XGu-FeAnAaj6SojWuYkWxfEyQwzGdsa1vySHJP0eX22de2Nl4XvuyXhTsdEN_nXqqjgulZ-DYF5vCkPmMDjUz-U9utqcT0nKPXSZl7vgYCrR0TA-rdPOdziiDgimPffZXe0UDauPi2/file\n",
            "Resolving uc4d5ae3515701f173c22e681be2.dl.dropboxusercontent.com (uc4d5ae3515701f173c22e681be2.dl.dropboxusercontent.com)... 162.125.2.15, 2620:100:6017:15::a27d:20f\n",
            "Connecting to uc4d5ae3515701f173c22e681be2.dl.dropboxusercontent.com (uc4d5ae3515701f173c22e681be2.dl.dropboxusercontent.com)|162.125.2.15|:443... connected.\n",
            "HTTP request sent, awaiting response... 302 Found\n",
            "Location: /cd/0/inline2/CeNP89k8QhE6NoedK32axkTiN3sxqdx3jaagCofk7wVryZdAKzz3vq7kv5TXTX5RJ27oa2gso7zHtk_Ej-ZLAmCxinnViqMu_xD5b0YGdzGqrkgagUmuTM05ihvQaCyWG78HeQbHAasuuY0rCjht6im4Leaoc-MfVoKIU1LT8CmWI4TvinJcmQlOU2QT5aotH0rSLQnYg9ZyV3uB04tQxITR5PUM6S_Yr_DsP7Q7wSqMAIJFMOrATAyCWV6csUD9luk1dTZYAdDIJyWYNi_UKv0FLu1HgtOtnYC-4FWvS8CaymbAggRcFXgpgc42V8UcGZQTb5jCUkDnzwCpJKO4Jy-EHtC5gRZOrugOysV-ECzkOHL2Lb-Yctb7oeEgnI8U_Tc/file [following]\n",
            "--2024-11-12 15:49:35--  https://uc4d5ae3515701f173c22e681be2.dl.dropboxusercontent.com/cd/0/inline2/CeNP89k8QhE6NoedK32axkTiN3sxqdx3jaagCofk7wVryZdAKzz3vq7kv5TXTX5RJ27oa2gso7zHtk_Ej-ZLAmCxinnViqMu_xD5b0YGdzGqrkgagUmuTM05ihvQaCyWG78HeQbHAasuuY0rCjht6im4Leaoc-MfVoKIU1LT8CmWI4TvinJcmQlOU2QT5aotH0rSLQnYg9ZyV3uB04tQxITR5PUM6S_Yr_DsP7Q7wSqMAIJFMOrATAyCWV6csUD9luk1dTZYAdDIJyWYNi_UKv0FLu1HgtOtnYC-4FWvS8CaymbAggRcFXgpgc42V8UcGZQTb5jCUkDnzwCpJKO4Jy-EHtC5gRZOrugOysV-ECzkOHL2Lb-Yctb7oeEgnI8U_Tc/file\n",
            "Reusing existing connection to uc4d5ae3515701f173c22e681be2.dl.dropboxusercontent.com:443.\n",
            "HTTP request sent, awaiting response... 200 OK\n",
            "Length: 16054568 (15M) [application/zip]\n",
            "Saving to: ‘digit-recognizer.zip’\n",
            "\n",
            "digit-recognizer.zi 100%[===================>]  15.31M  41.3MB/s    in 0.4s    \n",
            "\n",
            "2024-11-12 15:49:36 (41.3 MB/s) - ‘digit-recognizer.zip’ saved [16054568/16054568]\n",
            "\n",
            "Archive:  digit-recognizer.zip\n",
            "  inflating: sample_submission.csv   \n",
            "  inflating: test.csv                \n",
            "  inflating: train.csv               \n"
          ]
        }
      ]
    },
    {
      "cell_type": "code",
      "metadata": {
        "id": "MYMa35NN-PT-",
        "colab": {
          "base_uri": "https://localhost:8080/"
        },
        "outputId": "2af71e75-44bd-440d-8ef8-7b97d0b35b41"
      },
      "source": [
        "import cv2\n",
        "import numpy as np\n",
        "import tensorflow as tf\n",
        "\n",
        "print(tf.__version__)\n",
        "print(tf.executing_eagerly())"
      ],
      "execution_count": 1,
      "outputs": [
        {
          "output_type": "stream",
          "name": "stdout",
          "text": [
            "2.17.0\n",
            "True\n"
          ]
        }
      ]
    },
    {
      "cell_type": "code",
      "metadata": {
        "id": "WGgwb7uR-PUA"
      },
      "source": [
        "train = np.loadtxt('train.csv', delimiter=',', skiprows=1)\n",
        "test = np.loadtxt('test.csv', delimiter=',', skiprows=1)"
      ],
      "execution_count": 3,
      "outputs": []
    },
    {
      "cell_type": "code",
      "metadata": {
        "id": "YxCmQ8p6-PUA"
      },
      "source": [
        "# сохраняем разметку в отдельную переменную\n",
        "train_label = train[:, 0]\n",
        "\n",
        "# приводим размерность к удобному для обаботки виду\n",
        "# добавляем размерность канала\n",
        "train_img = np.resize(train[:, 1:], (train.shape[0], 28, 28, 1))\n",
        "test_img = np.resize(test, (test.shape[0], 28, 28, 1))"
      ],
      "execution_count": 4,
      "outputs": []
    },
    {
      "cell_type": "markdown",
      "metadata": {
        "id": "AfJmhSd8-PUB"
      },
      "source": [
        "## Визуализируем исходные данные"
      ]
    },
    {
      "cell_type": "code",
      "metadata": {
        "id": "krOeCzpp-PUB",
        "colab": {
          "base_uri": "https://localhost:8080/",
          "height": 350
        },
        "outputId": "871aedf0-f0f3-4f15-9582-9ad3b11d1bd1"
      },
      "source": [
        "%matplotlib inline\n",
        "import matplotlib.pyplot as plt\n",
        "\n",
        "fig = plt.figure(figsize=(20, 10))\n",
        "for i, img in enumerate(train_img[0:5, :], 1):\n",
        "    subplot = fig.add_subplot(1, 5, i)\n",
        "    plt.imshow(img[:,:,0], cmap='gray');\n",
        "    subplot.set_title('%s' % train_label[i - 1]);"
      ],
      "execution_count": 6,
      "outputs": [
        {
          "output_type": "display_data",
          "data": {
            "text/plain": [
              "<Figure size 2000x1000 with 5 Axes>"
            ],
            "image/png": "[encoded data removed]"
          },
          "metadata": {}
        }
      ]
    },
    {
      "cell_type": "markdown",
      "metadata": {
        "id": "MssFvw-p-PUB"
      },
      "source": [
        "## Разбиваем выборку на обучение и валидацию"
      ]
    },
    {
      "cell_type": "code",
      "metadata": {
        "id": "C3H_546f-PUC"
      },
      "source": [
        "from sklearn.model_selection import train_test_split\n",
        "y_train, y_val, x_train, x_val = train_test_split(\n",
        "    train_label, train_img, test_size=0.2, random_state=42)"
      ],
      "execution_count": 7,
      "outputs": []
    },
    {
      "cell_type": "markdown",
      "metadata": {
        "id": "FjnpPir3-PUC"
      },
      "source": [
        "## Собираем сверточную сеть для обучения"
      ]
    },
    {
      "cell_type": "code",
      "metadata": {
        "id": "NLvBtFnA-PUC",
        "colab": {
          "base_uri": "https://localhost:8080/"
        },
        "outputId": "d2042b07-87de-4cd6-a638-9c6fe34f3aa0"
      },
      "source": [
        "model = tf.keras.models.Sequential([\n",
        "    tf.keras.layers.Conv2D(filters=6,\n",
        "                           kernel_size=(5, 5),\n",
        "                           padding='same',\n",
        "                           activation='relu',\n",
        "                           input_shape=x_train.shape[1:]),\n",
        "    tf.keras.layers.MaxPool2D(pool_size=(2, 2), padding='valid'),\n",
        "\n",
        "    tf.keras.layers.Conv2D(filters=16,\n",
        "                           kernel_size=(5, 5),\n",
        "                           padding='same',\n",
        "                           activation='relu'),\n",
        "    tf.keras.layers.MaxPool2D(pool_size=(2, 2), padding='valid'),\n",
        "\n",
        "    tf.keras.layers.Flatten(),\n",
        "    tf.keras.layers.Dense(32, activation='relu'),\n",
        "    tf.keras.layers.Dense(10, activation='softmax')])\n",
        "\n",
        "model.compile(optimizer='adam',\n",
        "              loss='categorical_crossentropy',\n",
        "              metrics=['accuracy'])"
      ],
      "execution_count": 8,
      "outputs": [
        {
          "output_type": "stream",
          "name": "stderr",
          "text": [
            "/usr/local/lib/python3.10/dist-packages/keras/src/layers/convolutional/base_conv.py:107: UserWarning: Do not pass an `input_shape`/`input_dim` argument to a layer. When using Sequential models, prefer using an `Input(shape)` object as the first layer in the model instead.\n",
            "  super().__init__(activity_regularizer=activity_regularizer, **kwargs)\n"
          ]
        }
      ]
    },
    {
      "cell_type": "code",
      "metadata": {
        "id": "s9Q-kgO--PUD",
        "colab": {
          "base_uri": "https://localhost:8080/",
          "height": 374
        },
        "outputId": "316dfe42-4682-4d02-80cf-d56b8d4fb367"
      },
      "source": [
        "model.summary()"
      ],
      "execution_count": 9,
      "outputs": [
        {
          "output_type": "display_data",
          "data": {
            "text/plain": [
              "\u001b[1mModel: \"sequential\"\u001b[0m\n"
            ],
            "text/html": [
              "<pre style=\"white-space:pre;overflow-x:auto;line-height:normal;font-family:Menlo,'DejaVu Sans Mono',consolas,'Courier New',monospace\"><span style=\"font-weight: bold\">Model: \"sequential\"</span>\n",
              "</pre>\n"
            ]
          },
          "metadata": {}
        },
        {
          "output_type": "display_data",
          "data": {
            "text/plain": [
              "┏━━━━━━━━━━━━━━━━━━━━━━━━━━━━━━━━━━━━━━┳━━━━━━━━━━━━━━━━━━━━━━━━━━━━━┳━━━━━━━━━━━━━━━━━┓\n",
              "┃\u001b[1m \u001b[0m\u001b[1mLayer (type)                        \u001b[0m\u001b[1m \u001b[0m┃\u001b[1m \u001b[0m\u001b[1mOutput Shape               \u001b[0m\u001b[1m \u001b[0m┃\u001b[1m \u001b[0m\u001b[1m        Param #\u001b[0m\u001b[1m \u001b[0m┃\n",
              "┡━━━━━━━━━━━━━━━━━━━━━━━━━━━━━━━━━━━━━━╇━━━━━━━━━━━━━━━━━━━━━━━━━━━━━╇━━━━━━━━━━━━━━━━━┩\n",
              "│ conv2d (\u001b[38;5;33mConv2D\u001b[0m)                      │ (\u001b[38;5;45mNone\u001b[0m, \u001b[38;5;34m28\u001b[0m, \u001b[38;5;34m28\u001b[0m, \u001b[38;5;34m6\u001b[0m)           │             \u001b[38;5;34m156\u001b[0m │\n",
              "├──────────────────────────────────────┼─────────────────────────────┼─────────────────┤\n",
              "│ max_pooling2d (\u001b[38;5;33mMaxPooling2D\u001b[0m)         │ (\u001b[38;5;45mNone\u001b[0m, \u001b[38;5;34m14\u001b[0m, \u001b[38;5;34m14\u001b[0m, \u001b[38;5;34m6\u001b[0m)           │               \u001b[38;5;34m0\u001b[0m │\n",
              "├──────────────────────────────────────┼─────────────────────────────┼─────────────────┤\n",
              "│ conv2d_1 (\u001b[38;5;33mConv2D\u001b[0m)                    │ (\u001b[38;5;45mNone\u001b[0m, \u001b[38;5;34m14\u001b[0m, \u001b[38;5;34m14\u001b[0m, \u001b[38;5;34m16\u001b[0m)          │           \u001b[38;5;34m2,416\u001b[0m │\n",
              "├──────────────────────────────────────┼─────────────────────────────┼─────────────────┤\n",
              "│ max_pooling2d_1 (\u001b[38;5;33mMaxPooling2D\u001b[0m)       │ (\u001b[38;5;45mNone\u001b[0m, \u001b[38;5;34m7\u001b[0m, \u001b[38;5;34m7\u001b[0m, \u001b[38;5;34m16\u001b[0m)            │               \u001b[38;5;34m0\u001b[0m │\n",
              "├──────────────────────────────────────┼─────────────────────────────┼─────────────────┤\n",
              "│ flatten (\u001b[38;5;33mFlatten\u001b[0m)                    │ (\u001b[38;5;45mNone\u001b[0m, \u001b[38;5;34m784\u001b[0m)                 │               \u001b[38;5;34m0\u001b[0m │\n",
              "├──────────────────────────────────────┼─────────────────────────────┼─────────────────┤\n",
              "│ dense (\u001b[38;5;33mDense\u001b[0m)                        │ (\u001b[38;5;45mNone\u001b[0m, \u001b[38;5;34m32\u001b[0m)                  │          \u001b[38;5;34m25,120\u001b[0m │\n",
              "├──────────────────────────────────────┼─────────────────────────────┼─────────────────┤\n",
              "│ dense_1 (\u001b[38;5;33mDense\u001b[0m)                      │ (\u001b[38;5;45mNone\u001b[0m, \u001b[38;5;34m10\u001b[0m)                  │             \u001b[38;5;34m330\u001b[0m │\n",
              "└──────────────────────────────────────┴─────────────────────────────┴─────────────────┘\n"
            ],
            "text/html": [
              "<pre style=\"white-space:pre;overflow-x:auto;line-height:normal;font-family:Menlo,'DejaVu Sans Mono',consolas,'Courier New',monospace\">┏━━━━━━━━━━━━━━━━━━━━━━━━━━━━━━━━━━━━━━┳━━━━━━━━━━━━━━━━━━━━━━━━━━━━━┳━━━━━━━━━━━━━━━━━┓\n",
              "┃<span style=\"font-weight: bold\"> Layer (type)                         </span>┃<span style=\"font-weight: bold\"> Output Shape                </span>┃<span style=\"font-weight: bold\">         Param # </span>┃\n",
              "┡━━━━━━━━━━━━━━━━━━━━━━━━━━━━━━━━━━━━━━╇━━━━━━━━━━━━━━━━━━━━━━━━━━━━━╇━━━━━━━━━━━━━━━━━┩\n",
              "│ conv2d (<span style=\"color: #0087ff; text-decoration-color: #0087ff\">Conv2D</span>)                      │ (<span style=\"color: #00d7ff; text-decoration-color: #00d7ff\">None</span>, <span style=\"color: #00af00; text-decoration-color: #00af00\">28</span>, <span style=\"color: #00af00; text-decoration-color: #00af00\">28</span>, <span style=\"color: #00af00; text-decoration-color: #00af00\">6</span>)           │             <span style=\"color: #00af00; text-decoration-color: #00af00\">156</span> │\n",
              "├──────────────────────────────────────┼─────────────────────────────┼─────────────────┤\n",
              "│ max_pooling2d (<span style=\"color: #0087ff; text-decoration-color: #0087ff\">MaxPooling2D</span>)         │ (<span style=\"color: #00d7ff; text-decoration-color: #00d7ff\">None</span>, <span style=\"color: #00af00; text-decoration-color: #00af00\">14</span>, <span style=\"color: #00af00; text-decoration-color: #00af00\">14</span>, <span style=\"color: #00af00; text-decoration-color: #00af00\">6</span>)           │               <span style=\"color: #00af00; text-decoration-color: #00af00\">0</span> │\n",
              "├──────────────────────────────────────┼─────────────────────────────┼─────────────────┤\n",
              "│ conv2d_1 (<span style=\"color: #0087ff; text-decoration-color: #0087ff\">Conv2D</span>)                    │ (<span style=\"color: #00d7ff; text-decoration-color: #00d7ff\">None</span>, <span style=\"color: #00af00; text-decoration-color: #00af00\">14</span>, <span style=\"color: #00af00; text-decoration-color: #00af00\">14</span>, <span style=\"color: #00af00; text-decoration-color: #00af00\">16</span>)          │           <span style=\"color: #00af00; text-decoration-color: #00af00\">2,416</span> │\n",
              "├──────────────────────────────────────┼─────────────────────────────┼─────────────────┤\n",
              "│ max_pooling2d_1 (<span style=\"color: #0087ff; text-decoration-color: #0087ff\">MaxPooling2D</span>)       │ (<span style=\"color: #00d7ff; text-decoration-color: #00d7ff\">None</span>, <span style=\"color: #00af00; text-decoration-color: #00af00\">7</span>, <span style=\"color: #00af00; text-decoration-color: #00af00\">7</span>, <span style=\"color: #00af00; text-decoration-color: #00af00\">16</span>)            │               <span style=\"color: #00af00; text-decoration-color: #00af00\">0</span> │\n",
              "├──────────────────────────────────────┼─────────────────────────────┼─────────────────┤\n",
              "│ flatten (<span style=\"color: #0087ff; text-decoration-color: #0087ff\">Flatten</span>)                    │ (<span style=\"color: #00d7ff; text-decoration-color: #00d7ff\">None</span>, <span style=\"color: #00af00; text-decoration-color: #00af00\">784</span>)                 │               <span style=\"color: #00af00; text-decoration-color: #00af00\">0</span> │\n",
              "├──────────────────────────────────────┼─────────────────────────────┼─────────────────┤\n",
              "│ dense (<span style=\"color: #0087ff; text-decoration-color: #0087ff\">Dense</span>)                        │ (<span style=\"color: #00d7ff; text-decoration-color: #00d7ff\">None</span>, <span style=\"color: #00af00; text-decoration-color: #00af00\">32</span>)                  │          <span style=\"color: #00af00; text-decoration-color: #00af00\">25,120</span> │\n",
              "├──────────────────────────────────────┼─────────────────────────────┼─────────────────┤\n",
              "│ dense_1 (<span style=\"color: #0087ff; text-decoration-color: #0087ff\">Dense</span>)                      │ (<span style=\"color: #00d7ff; text-decoration-color: #00d7ff\">None</span>, <span style=\"color: #00af00; text-decoration-color: #00af00\">10</span>)                  │             <span style=\"color: #00af00; text-decoration-color: #00af00\">330</span> │\n",
              "└──────────────────────────────────────┴─────────────────────────────┴─────────────────┘\n",
              "</pre>\n"
            ]
          },
          "metadata": {}
        },
        {
          "output_type": "display_data",
          "data": {
            "text/plain": [
              "\u001b[1m Total params: \u001b[0m\u001b[38;5;34m28,022\u001b[0m (109.46 KB)\n"
            ],
            "text/html": [
              "<pre style=\"white-space:pre;overflow-x:auto;line-height:normal;font-family:Menlo,'DejaVu Sans Mono',consolas,'Courier New',monospace\"><span style=\"font-weight: bold\"> Total params: </span><span style=\"color: #00af00; text-decoration-color: #00af00\">28,022</span> (109.46 KB)\n",
              "</pre>\n"
            ]
          },
          "metadata": {}
        },
        {
          "output_type": "display_data",
          "data": {
            "text/plain": [
              "\u001b[1m Trainable params: \u001b[0m\u001b[38;5;34m28,022\u001b[0m (109.46 KB)\n"
            ],
            "text/html": [
              "<pre style=\"white-space:pre;overflow-x:auto;line-height:normal;font-family:Menlo,'DejaVu Sans Mono',consolas,'Courier New',monospace\"><span style=\"font-weight: bold\"> Trainable params: </span><span style=\"color: #00af00; text-decoration-color: #00af00\">28,022</span> (109.46 KB)\n",
              "</pre>\n"
            ]
          },
          "metadata": {}
        },
        {
          "output_type": "display_data",
          "data": {
            "text/plain": [
              "\u001b[1m Non-trainable params: \u001b[0m\u001b[38;5;34m0\u001b[0m (0.00 B)\n"
            ],
            "text/html": [
              "<pre style=\"white-space:pre;overflow-x:auto;line-height:normal;font-family:Menlo,'DejaVu Sans Mono',consolas,'Courier New',monospace\"><span style=\"font-weight: bold\"> Non-trainable params: </span><span style=\"color: #00af00; text-decoration-color: #00af00\">0</span> (0.00 B)\n",
              "</pre>\n"
            ]
          },
          "metadata": {}
        }
      ]
    },
    {
      "cell_type": "markdown",
      "metadata": {
        "id": "mdWWGVWh-PUD"
      },
      "source": [
        "## One-hot кодировка разметки"
      ]
    },
    {
      "cell_type": "code",
      "metadata": {
        "id": "t53WhEJj-PUD"
      },
      "source": [
        "y_train_labels = tf.keras.utils.to_categorical(y_train)"
      ],
      "execution_count": 10,
      "outputs": []
    },
    {
      "cell_type": "code",
      "metadata": {
        "id": "_DDvCDWO-PUE",
        "colab": {
          "base_uri": "https://localhost:8080/"
        },
        "outputId": "ef8e666b-0cc6-482f-c97f-0b634042fc37"
      },
      "source": [
        "print(y_train.shape)\n",
        "print(y_train_labels.shape)"
      ],
      "execution_count": null,
      "outputs": [
        {
          "output_type": "stream",
          "text": [
            "(33600,)\n",
            "(33600, 10)\n"
          ],
          "name": "stdout"
        }
      ]
    },
    {
      "cell_type": "markdown",
      "metadata": {
        "id": "C1spRItd-PUE"
      },
      "source": [
        "## Запускаем обучение"
      ]
    },
    {
      "cell_type": "code",
      "metadata": {
        "id": "8gNQkGB0-PUE",
        "colab": {
          "base_uri": "https://localhost:8080/"
        },
        "outputId": "fec29755-96f8-4c4c-ce80-7b6cd812f873"
      },
      "source": [
        "model.fit(x_train,\n",
        "          y_train_labels,\n",
        "          batch_size=32,\n",
        "          epochs=5,\n",
        "          validation_split=0.2)"
      ],
      "execution_count": 11,
      "outputs": [
        {
          "output_type": "stream",
          "name": "stdout",
          "text": [
            "Epoch 1/5\n",
            "\u001b[1m840/840\u001b[0m \u001b[32m━━━━━━━━━━━━━━━━━━━━\u001b[0m\u001b[37m\u001b[0m \u001b[1m8s\u001b[0m 3ms/step - accuracy: 0.5076 - loss: 2.9200 - val_accuracy: 0.8952 - val_loss: 0.4507\n",
            "Epoch 2/5\n",
            "\u001b[1m840/840\u001b[0m \u001b[32m━━━━━━━━━━━━━━━━━━━━\u001b[0m\u001b[37m\u001b[0m \u001b[1m8s\u001b[0m 4ms/step - accuracy: 0.9216 - loss: 0.3022 - val_accuracy: 0.9618 - val_loss: 0.1319\n",
            "Epoch 3/5\n",
            "\u001b[1m840/840\u001b[0m \u001b[32m━━━━━━━━━━━━━━━━━━━━\u001b[0m\u001b[37m\u001b[0m \u001b[1m4s\u001b[0m 2ms/step - accuracy: 0.9689 - loss: 0.1021 - val_accuracy: 0.9659 - val_loss: 0.1324\n",
            "Epoch 4/5\n",
            "\u001b[1m840/840\u001b[0m \u001b[32m━━━━━━━━━━━━━━━━━━━━\u001b[0m\u001b[37m\u001b[0m \u001b[1m3s\u001b[0m 2ms/step - accuracy: 0.9764 - loss: 0.0809 - val_accuracy: 0.9713 - val_loss: 0.1070\n",
            "Epoch 5/5\n",
            "\u001b[1m840/840\u001b[0m \u001b[32m━━━━━━━━━━━━━━━━━━━━\u001b[0m\u001b[37m\u001b[0m \u001b[1m3s\u001b[0m 2ms/step - accuracy: 0.9806 - loss: 0.0638 - val_accuracy: 0.9720 - val_loss: 0.1184\n"
          ]
        },
        {
          "output_type": "execute_result",
          "data": {
            "text/plain": [
              "<keras.src.callbacks.history.History at 0x7decf0c06ef0>"
            ]
          },
          "metadata": {},
          "execution_count": 11
        }
      ]
    },
    {
      "cell_type": "markdown",
      "metadata": {
        "id": "DU8-qtD6-PUE"
      },
      "source": [
        "## Предсказываем класс объекта"
      ]
    },
    {
      "cell_type": "code",
      "metadata": {
        "id": "7YOXhjXz-PUF",
        "colab": {
          "base_uri": "https://localhost:8080/"
        },
        "outputId": "975907f4-3f85-427b-e473-3ae3ff70a536"
      },
      "source": [
        "y_pred = model.predict(x_val)\n",
        "y_pred_labels = np.argmax(y_pred, axis=1)"
      ],
      "execution_count": 12,
      "outputs": [
        {
          "output_type": "stream",
          "name": "stdout",
          "text": [
            "\u001b[1m263/263\u001b[0m \u001b[32m━━━━━━━━━━━━━━━━━━━━\u001b[0m\u001b[37m\u001b[0m \u001b[1m1s\u001b[0m 3ms/step\n"
          ]
        }
      ]
    },
    {
      "cell_type": "markdown",
      "metadata": {
        "id": "RLqb0lu9-PUF"
      },
      "source": [
        "## Оцениваем качество решение на валидационной выборке"
      ]
    },
    {
      "cell_type": "code",
      "metadata": {
        "id": "pv3JU7Sr-PUF",
        "colab": {
          "base_uri": "https://localhost:8080/"
        },
        "outputId": "3488a9d2-3b7c-4e64-bb36-156716374ed4"
      },
      "source": [
        "from sklearn.metrics import accuracy_score\n",
        "print('Accuracy: %s' % accuracy_score(y_val, y_pred_labels))"
      ],
      "execution_count": 13,
      "outputs": [
        {
          "output_type": "stream",
          "name": "stdout",
          "text": [
            "Accuracy: 0.9707142857142858\n"
          ]
        }
      ]
    },
    {
      "cell_type": "code",
      "metadata": {
        "id": "HK_wcKkG-PUF",
        "colab": {
          "base_uri": "https://localhost:8080/"
        },
        "outputId": "7b74a3de-bb23-41db-d230-7713ceca3323"
      },
      "source": [
        "from sklearn.metrics import classification_report\n",
        "print(classification_report(y_val, y_pred_labels))"
      ],
      "execution_count": 14,
      "outputs": [
        {
          "output_type": "stream",
          "name": "stdout",
          "text": [
            "              precision    recall  f1-score   support\n",
            "\n",
            "         0.0       0.98      0.98      0.98       816\n",
            "         1.0       0.97      0.99      0.98       909\n",
            "         2.0       0.98      0.97      0.98       846\n",
            "         3.0       0.97      0.97      0.97       937\n",
            "         4.0       0.98      0.96      0.97       839\n",
            "         5.0       0.97      0.97      0.97       702\n",
            "         6.0       0.98      0.97      0.98       785\n",
            "         7.0       0.96      0.98      0.97       893\n",
            "         8.0       0.93      0.98      0.95       835\n",
            "         9.0       0.98      0.93      0.95       838\n",
            "\n",
            "    accuracy                           0.97      8400\n",
            "   macro avg       0.97      0.97      0.97      8400\n",
            "weighted avg       0.97      0.97      0.97      8400\n",
            "\n"
          ]
        }
      ]
    },
    {
      "cell_type": "code",
      "metadata": {
        "id": "PPljcguC-PUF",
        "colab": {
          "base_uri": "https://localhost:8080/",
          "height": 694
        },
        "outputId": "5b890065-75c1-4ed1-f4ec-c6b3e7997dab"
      },
      "source": [
        "from sklearn.metrics import confusion_matrix\n",
        "cm = confusion_matrix(y_val, y_pred_labels)\n",
        "\n",
        "plt.figure(figsize=(10, 8))\n",
        "plt.imshow(cm, cmap=plt.cm.Blues)\n",
        "plt.xlabel(\"Predicted labels\")\n",
        "plt.ylabel(\"True labels\")\n",
        "plt.xticks([], [])\n",
        "plt.yticks([], [])\n",
        "plt.title('Confusion matrix ')\n",
        "plt.colorbar()\n",
        "plt.show()"
      ],
      "execution_count": 15,
      "outputs": [
        {
          "output_type": "display_data",
          "data": {
            "text/plain": [
              "<Figure size 1000x800 with 2 Axes>"
            ],
            "image/png": "[encoded data removed]"
          },
          "metadata": {}
        }
      ]
    },
    {
      "cell_type": "markdown",
      "metadata": {
        "id": "BW_fiXzo-PUG"
      },
      "source": [
        "## Визуализируем предсказания для тестовой выборки"
      ]
    },
    {
      "cell_type": "code",
      "metadata": {
        "id": "cdjlRTCK-PUG",
        "colab": {
          "base_uri": "https://localhost:8080/"
        },
        "outputId": "186ef08d-1031-4e92-c340-0886021c43c2"
      },
      "source": [
        "y_pred_test = model.predict(test_img)\n",
        "y_pred_test_labels = np.argmax(y_pred_test, axis=1)"
      ],
      "execution_count": 16,
      "outputs": [
        {
          "output_type": "stream",
          "name": "stdout",
          "text": [
            "\u001b[1m875/875\u001b[0m \u001b[32m━━━━━━━━━━━━━━━━━━━━\u001b[0m\u001b[37m\u001b[0m \u001b[1m2s\u001b[0m 3ms/step\n"
          ]
        }
      ]
    },
    {
      "cell_type": "code",
      "metadata": {
        "id": "yWr_Ca52-PUG",
        "colab": {
          "base_uri": "https://localhost:8080/",
          "height": 350
        },
        "outputId": "333fb1e6-fefb-4d30-89ce-24f61405d932"
      },
      "source": [
        "fig = plt.figure(figsize=(20, 10))\n",
        "indices = np.random.choice(range(len(test_img)), 5)\n",
        "img_prediction = zip(test_img[indices], y_pred_test_labels[indices])\n",
        "for i, (img, pred) in enumerate(img_prediction, 1):\n",
        "    subplot = fig.add_subplot(1, 5, i)\n",
        "    plt.imshow(img[...,0], cmap='gray');\n",
        "    subplot.set_title('%d' % pred);"
      ],
      "execution_count": 17,
      "outputs": [
        {
          "output_type": "display_data",
          "data": {
            "text/plain": [
              "<Figure size 2000x1000 with 5 Axes>"
            ],
            "image/png": "[encoded data removed]"
          },
          "metadata": {}
        }
      ]
    },
    {
      "cell_type": "markdown",
      "metadata": {
        "id": "tinngHdI-PUG"
      },
      "source": [
        "## Готовим файл для отправки"
      ]
    },
    {
      "cell_type": "code",
      "metadata": {
        "id": "AqyKGyYT-PUG"
      },
      "source": [
        "with open('submit.txt', 'w') as dst:\n",
        "    dst.write('ImageId,Label\\n')\n",
        "    for i, p in enumerate(y_pred_test_labels, 1):\n",
        "        dst.write('%s,%d\\n' % (i, p))"
      ],
      "execution_count": 18,
      "outputs": []
    },
    {
      "cell_type": "code",
      "metadata": {
        "id": "VozT2TRp-PUH"
      },
      "source": [
        "# Your submission scored 0.96814"
      ],
      "execution_count": null,
      "outputs": []
    }
  ]
}