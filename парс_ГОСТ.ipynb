{
  "nbformat": 4,
  "nbformat_minor": 0,
  "metadata": {
    "colab": {
      "provenance": [],
      "authorship_tag": "ABX9TyObptN+8EhkD/BjTrc3aR0K",
      "include_colab_link": true
    },
    "kernelspec": {
      "name": "python3",
      "display_name": "Python 3"
    },
    "language_info": {
      "name": "python"
    }
  },
  "cells": [
    {
      "cell_type": "markdown",
      "metadata": {
        "id": "view-in-github",
        "colab_type": "text"
      },
      "source": [
        "<a href=\"https://colab.research.google.com/github/OVP2023/ML/blob/main/%D0%BF%D0%B0%D1%80%D1%81_%D0%93%D0%9E%D0%A1%D0%A2.ipynb\" target=\"_parent\"><img src=\"https://colab.research.google.com/assets/colab-badge.svg\" alt=\"Open In Colab\"/></a>"
      ]
    },
    {
      "cell_type": "code",
      "execution_count": null,
      "metadata": {
        "id": "dYMfgwXPWJYP"
      },
      "outputs": [],
      "source": [
        "import pandas as pd\n",
        "import requests\n",
        "from bs4 import BeautifulSoup\n",
        "import warnings                   #отменим все не нужные предупреждения python\n",
        "warnings.filterwarnings(\"ignore\")\n"
      ]
    },
    {
      "cell_type": "code",
      "source": [
        "def f_list_aspx(url):\n",
        "    response = requests.get(url)\n",
        "    soup = BeautifulSoup(response.text, 'lxml')\n",
        "    table1 = soup.find_all('td', class_='tx12')\n",
        "    k=2\n",
        "    list_aspx=[]\n",
        "    for i in range(0,len(table1)):\n",
        "        if  k==2:\n",
        "            str1=str(table1[i])\n",
        "            str2=str1[47:59:1]\n",
        "            list_aspx.append(str2)\n",
        "            k=1\n",
        "        else:\n",
        "            k=2\n",
        "    return list_aspx\n",
        "#парсил ГОСТы\n",
        "#https://www.standards.ru/document.aspx?control=54&search=&sort=%20ASC&month=9&cid=6&year=2024&page=  7 лист последний\n",
        "#https://www.standards.ru/document.aspx?control=54&search=&sort=%20ASC&month=8&cid=6&year=2024&page=   6 лист последний\n",
        "#https://www.standards.ru/document.aspx?control=54&search=&sort=%20ASC&month=7&cid=6&year=2024&page=   8 лист последний\n",
        "#https://www.standards.ru/document.aspx?control=54&search=&sort=%20ASC&month=6&cid=6&year=2024&page=   7 лист последний\n",
        "#https://www.standards.ru/document.aspx?control=54&search=&sort=%20ASC&month=5&cid=6&year=2024&page=   7 лист последний\n",
        "#https://www.standards.ru/document.aspx?control=54&search=&sort=%20ASC&month=4&cid=6&year=2024&page=   7 лист последний\n",
        "\n",
        "list_sum=[]\n",
        "for i in range(0,7):   #номер последнего листа на сайте\n",
        "    url='https://www.standards.ru/document.aspx?control=54&search=&sort=%20ASC&month=4&cid=6&year=2024&page='+str(i)\n",
        "    list_sum=list_sum+f_list_aspx(url)\n",
        "    print(list_sum)\n",
        "print(len(list_sum))\n"
      ],
      "metadata": {
        "colab": {
          "base_uri": "https://localhost:8080/"
        },
        "id": "ONqKOv-8j3yS",
        "outputId": "625519de-0dc6-471c-e048-3b193a3b49a7"
      },
      "execution_count": null,
      "outputs": [
        {
          "output_type": "stream",
          "name": "stdout",
          "text": [
            "['6431047.aspx', '7429470.aspx', '7528957.aspx', '7089017.aspx', '6981445.aspx', '7528326.aspx', '7527229.aspx', '7528058.aspx', '7528060.aspx', '7528066.aspx', '7528581.aspx', '7527978.aspx', '7430066.aspx', '7527883.aspx', '7528104.aspx', '7527890.aspx', '7527872.aspx', '7430014.aspx', '7528316.aspx', '7528408.aspx']\n",
            "['6431047.aspx', '7429470.aspx', '7528957.aspx', '7089017.aspx', '6981445.aspx', '7528326.aspx', '7527229.aspx', '7528058.aspx', '7528060.aspx', '7528066.aspx', '7528581.aspx', '7527978.aspx', '7430066.aspx', '7527883.aspx', '7528104.aspx', '7527890.aspx', '7527872.aspx', '7430014.aspx', '7528316.aspx', '7528408.aspx', '7528074.aspx', '7528098.aspx', '7528042.aspx', '7527230.aspx', '7527903.aspx', '7527900.aspx', '7527885.aspx', '7528257.aspx', '7527875.aspx', '7527874.aspx', '7527882.aspx', '7527888.aspx', '7528254.aspx', '7528264.aspx', '7527830.aspx', '7528402.aspx', '7528035.aspx', '7528037.aspx', '7528062.aspx', '7528050.aspx']\n",
            "['6431047.aspx', '7429470.aspx', '7528957.aspx', '7089017.aspx', '6981445.aspx', '7528326.aspx', '7527229.aspx', '7528058.aspx', '7528060.aspx', '7528066.aspx', '7528581.aspx', '7527978.aspx', '7430066.aspx', '7527883.aspx', '7528104.aspx', '7527890.aspx', '7527872.aspx', '7430014.aspx', '7528316.aspx', '7528408.aspx', '7528074.aspx', '7528098.aspx', '7528042.aspx', '7527230.aspx', '7527903.aspx', '7527900.aspx', '7527885.aspx', '7528257.aspx', '7527875.aspx', '7527874.aspx', '7527882.aspx', '7527888.aspx', '7528254.aspx', '7528264.aspx', '7527830.aspx', '7528402.aspx', '7528035.aspx', '7528037.aspx', '7528062.aspx', '7528050.aspx', '7527827.aspx', '7528255.aspx', '7528258.aspx', '7528256.aspx', '7528229.aspx', '7528243.aspx', '7528242.aspx', '7528231.aspx', '7528244.aspx', '7528245.aspx', '7528233.aspx', '7528236.aspx', '7528240.aspx', '7527908.aspx', '7527980.aspx', '7528318.aspx', '6450367.aspx', '7528156.aspx', '7528543.aspx', '7528544.aspx']\n",
            "['6431047.aspx', '7429470.aspx', '7528957.aspx', '7089017.aspx', '6981445.aspx', '7528326.aspx', '7527229.aspx', '7528058.aspx', '7528060.aspx', '7528066.aspx', '7528581.aspx', '7527978.aspx', '7430066.aspx', '7527883.aspx', '7528104.aspx', '7527890.aspx', '7527872.aspx', '7430014.aspx', '7528316.aspx', '7528408.aspx', '7528074.aspx', '7528098.aspx', '7528042.aspx', '7527230.aspx', '7527903.aspx', '7527900.aspx', '7527885.aspx', '7528257.aspx', '7527875.aspx', '7527874.aspx', '7527882.aspx', '7527888.aspx', '7528254.aspx', '7528264.aspx', '7527830.aspx', '7528402.aspx', '7528035.aspx', '7528037.aspx', '7528062.aspx', '7528050.aspx', '7527827.aspx', '7528255.aspx', '7528258.aspx', '7528256.aspx', '7528229.aspx', '7528243.aspx', '7528242.aspx', '7528231.aspx', '7528244.aspx', '7528245.aspx', '7528233.aspx', '7528236.aspx', '7528240.aspx', '7527908.aspx', '7527980.aspx', '7528318.aspx', '6450367.aspx', '7528156.aspx', '7528543.aspx', '7528544.aspx', '7528079.aspx', '7528263.aspx', '7528262.aspx', '7528252.aspx', '7527906.aspx', '7528175.aspx', '7527902.aspx', '7528158.aspx', '7528174.aspx', '7527527.aspx', '7528172.aspx', '7528173.aspx', '7528099.aspx', '7527869.aspx', '7527981.aspx', '7527886.aspx', '7527870.aspx', '7527878.aspx', '7527868.aspx', '7528250.aspx']\n",
            "['6431047.aspx', '7429470.aspx', '7528957.aspx', '7089017.aspx', '6981445.aspx', '7528326.aspx', '7527229.aspx', '7528058.aspx', '7528060.aspx', '7528066.aspx', '7528581.aspx', '7527978.aspx', '7430066.aspx', '7527883.aspx', '7528104.aspx', '7527890.aspx', '7527872.aspx', '7430014.aspx', '7528316.aspx', '7528408.aspx', '7528074.aspx', '7528098.aspx', '7528042.aspx', '7527230.aspx', '7527903.aspx', '7527900.aspx', '7527885.aspx', '7528257.aspx', '7527875.aspx', '7527874.aspx', '7527882.aspx', '7527888.aspx', '7528254.aspx', '7528264.aspx', '7527830.aspx', '7528402.aspx', '7528035.aspx', '7528037.aspx', '7528062.aspx', '7528050.aspx', '7527827.aspx', '7528255.aspx', '7528258.aspx', '7528256.aspx', '7528229.aspx', '7528243.aspx', '7528242.aspx', '7528231.aspx', '7528244.aspx', '7528245.aspx', '7528233.aspx', '7528236.aspx', '7528240.aspx', '7527908.aspx', '7527980.aspx', '7528318.aspx', '6450367.aspx', '7528156.aspx', '7528543.aspx', '7528544.aspx', '7528079.aspx', '7528263.aspx', '7528262.aspx', '7528252.aspx', '7527906.aspx', '7528175.aspx', '7527902.aspx', '7528158.aspx', '7528174.aspx', '7527527.aspx', '7528172.aspx', '7528173.aspx', '7528099.aspx', '7527869.aspx', '7527981.aspx', '7527886.aspx', '7527870.aspx', '7527878.aspx', '7527868.aspx', '7528250.aspx', '7528246.aspx', '7528397.aspx', '7528401.aspx', '7528395.aspx', '7528398.aspx', '7528400.aspx', '7528394.aspx', '7528396.aspx', '7528403.aspx', '7527464.aspx', '7527528.aspx', '7527529.aspx', '7527526.aspx', '7527822.aspx', '7527889.aspx', '7528044.aspx', '7528032.aspx', '7528085.aspx', '7528101.aspx', '7528038.aspx']\n",
            "['6431047.aspx', '7429470.aspx', '7528957.aspx', '7089017.aspx', '6981445.aspx', '7528326.aspx', '7527229.aspx', '7528058.aspx', '7528060.aspx', '7528066.aspx', '7528581.aspx', '7527978.aspx', '7430066.aspx', '7527883.aspx', '7528104.aspx', '7527890.aspx', '7527872.aspx', '7430014.aspx', '7528316.aspx', '7528408.aspx', '7528074.aspx', '7528098.aspx', '7528042.aspx', '7527230.aspx', '7527903.aspx', '7527900.aspx', '7527885.aspx', '7528257.aspx', '7527875.aspx', '7527874.aspx', '7527882.aspx', '7527888.aspx', '7528254.aspx', '7528264.aspx', '7527830.aspx', '7528402.aspx', '7528035.aspx', '7528037.aspx', '7528062.aspx', '7528050.aspx', '7527827.aspx', '7528255.aspx', '7528258.aspx', '7528256.aspx', '7528229.aspx', '7528243.aspx', '7528242.aspx', '7528231.aspx', '7528244.aspx', '7528245.aspx', '7528233.aspx', '7528236.aspx', '7528240.aspx', '7527908.aspx', '7527980.aspx', '7528318.aspx', '6450367.aspx', '7528156.aspx', '7528543.aspx', '7528544.aspx', '7528079.aspx', '7528263.aspx', '7528262.aspx', '7528252.aspx', '7527906.aspx', '7528175.aspx', '7527902.aspx', '7528158.aspx', '7528174.aspx', '7527527.aspx', '7528172.aspx', '7528173.aspx', '7528099.aspx', '7527869.aspx', '7527981.aspx', '7527886.aspx', '7527870.aspx', '7527878.aspx', '7527868.aspx', '7528250.aspx', '7528246.aspx', '7528397.aspx', '7528401.aspx', '7528395.aspx', '7528398.aspx', '7528400.aspx', '7528394.aspx', '7528396.aspx', '7528403.aspx', '7527464.aspx', '7527528.aspx', '7527529.aspx', '7527526.aspx', '7527822.aspx', '7527889.aspx', '7528044.aspx', '7528032.aspx', '7528085.aspx', '7528101.aspx', '7528038.aspx', '7528157.aspx', '7528159.aspx', '7528176.aspx', '7528160.aspx', '7528227.aspx', '7528239.aspx', '7528238.aspx', '7528253.aspx', '7528259.aspx', '7528251.aspx', '7528319.aspx', '7528321.aspx', '7528583.aspx', '7528579.aspx', '7528590.aspx', '7528547.aspx', '7528557.aspx', '7528550.aspx', '7528107.aspx', '7528111.aspx']\n",
            "['6431047.aspx', '7429470.aspx', '7528957.aspx', '7089017.aspx', '6981445.aspx', '7528326.aspx', '7527229.aspx', '7528058.aspx', '7528060.aspx', '7528066.aspx', '7528581.aspx', '7527978.aspx', '7430066.aspx', '7527883.aspx', '7528104.aspx', '7527890.aspx', '7527872.aspx', '7430014.aspx', '7528316.aspx', '7528408.aspx', '7528074.aspx', '7528098.aspx', '7528042.aspx', '7527230.aspx', '7527903.aspx', '7527900.aspx', '7527885.aspx', '7528257.aspx', '7527875.aspx', '7527874.aspx', '7527882.aspx', '7527888.aspx', '7528254.aspx', '7528264.aspx', '7527830.aspx', '7528402.aspx', '7528035.aspx', '7528037.aspx', '7528062.aspx', '7528050.aspx', '7527827.aspx', '7528255.aspx', '7528258.aspx', '7528256.aspx', '7528229.aspx', '7528243.aspx', '7528242.aspx', '7528231.aspx', '7528244.aspx', '7528245.aspx', '7528233.aspx', '7528236.aspx', '7528240.aspx', '7527908.aspx', '7527980.aspx', '7528318.aspx', '6450367.aspx', '7528156.aspx', '7528543.aspx', '7528544.aspx', '7528079.aspx', '7528263.aspx', '7528262.aspx', '7528252.aspx', '7527906.aspx', '7528175.aspx', '7527902.aspx', '7528158.aspx', '7528174.aspx', '7527527.aspx', '7528172.aspx', '7528173.aspx', '7528099.aspx', '7527869.aspx', '7527981.aspx', '7527886.aspx', '7527870.aspx', '7527878.aspx', '7527868.aspx', '7528250.aspx', '7528246.aspx', '7528397.aspx', '7528401.aspx', '7528395.aspx', '7528398.aspx', '7528400.aspx', '7528394.aspx', '7528396.aspx', '7528403.aspx', '7527464.aspx', '7527528.aspx', '7527529.aspx', '7527526.aspx', '7527822.aspx', '7527889.aspx', '7528044.aspx', '7528032.aspx', '7528085.aspx', '7528101.aspx', '7528038.aspx', '7528157.aspx', '7528159.aspx', '7528176.aspx', '7528160.aspx', '7528227.aspx', '7528239.aspx', '7528238.aspx', '7528253.aspx', '7528259.aspx', '7528251.aspx', '7528319.aspx', '7528321.aspx', '7528583.aspx', '7528579.aspx', '7528590.aspx', '7528547.aspx', '7528557.aspx', '7528550.aspx', '7528107.aspx', '7528111.aspx', '7527523.aspx', '7527215.aspx', '7528322.aspx', '7527901.aspx', '7528407.aspx']\n",
            "125\n"
          ]
        }
      ]
    },
    {
      "cell_type": "code",
      "source": [
        "print(list_sum[0],list_sum[124])"
      ],
      "metadata": {
        "colab": {
          "base_uri": "https://localhost:8080/"
        },
        "id": "v27J0ATp0fBc",
        "outputId": "993f5f23-e668-46c9-b346-c01a39365472"
      },
      "execution_count": null,
      "outputs": [
        {
          "output_type": "stream",
          "name": "stdout",
          "text": [
            "6431047.aspx 7528407.aspx\n"
          ]
        }
      ]
    },
    {
      "cell_type": "code",
      "source": [
        "#Парсим страницы ГОСТ\n",
        "df_sum=pd.DataFrame()\n",
        "df=pd.DataFrame()\n",
        "for name in list_sum:\n",
        "    url='https://www.standards.ru/document/'+name\n",
        "    table1=pd.read_html(url, encoding=\"WINDOWS-1251\")\n",
        "    df=table1[13]\n",
        "    df_sum=pd.concat([df_sum, df], ignore_index=True)\n",
        "#df_sum.rename(columns={'0': 'Название', '1': 'Значение'}, inplace=True)\n",
        "df_sum.to_excel('/content/table_gost_0424.xlsx')"
      ],
      "metadata": {
        "id": "F_PXCrAgWy2f"
      },
      "execution_count": null,
      "outputs": []
    }
  ]
}